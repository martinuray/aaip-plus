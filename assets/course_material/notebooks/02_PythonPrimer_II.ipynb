{
 "cells": [
  {
   "cell_type": "markdown",
   "metadata": {
    "slideshow": {
     "slide_type": "slide"
    },
    "tags": []
   },
   "source": [
    "# Python Primer II\n",
    "\n",
    "## Table of Contents\n",
    "\n",
    "2. [Functions Classes and Data Structures](#fcds)\n",
    "- [Functions](#pyfunctions)\n",
    "- [Classes](#pyclasses)\n",
    "- [Dictionaries](#pydicts)\n",
    "- [Sets](#pysets)\n",
    "- [List Comprehensions](#listcomprehension)\n",
    "\n",
    "3. [Exception Handling](#exceptions)\n",
    "\n",
    "4. [Exercises](#exercises)"
   ]
  },
  {
   "cell_type": "markdown",
   "metadata": {
    "slideshow": {
     "slide_type": "slide"
    },
    "tags": []
   },
   "source": [
    "<a name=\"fcds\"></a>\n",
    "# Functions, Classes and Data Structures"
   ]
  },
  {
   "cell_type": "markdown",
   "metadata": {
    "slideshow": {
     "slide_type": "slide"
    }
   },
   "source": [
    "<a name=\"pyfunctions\"></a>\n",
    "## Functions\n",
    "\n",
    "Functions in Python are defined using the block keyword ``def`` followed by the function's name. "
   ]
  },
  {
   "cell_type": "code",
   "execution_count": null,
   "metadata": {
    "slideshow": {
     "slide_type": "fragment"
    }
   },
   "outputs": [],
   "source": [
    "def greeting_function():\n",
    "    print(\"Greetings from this function.\")"
   ]
  },
  {
   "cell_type": "markdown",
   "metadata": {
    "slideshow": {
     "slide_type": "subslide"
    }
   },
   "source": [
    "Naturally, Python functions can also take arguments and return values:"
   ]
  },
  {
   "cell_type": "code",
   "execution_count": null,
   "metadata": {
    "slideshow": {
     "slide_type": "fragment"
    }
   },
   "outputs": [],
   "source": [
    "def sum_two_numbers(a, b):\n",
    "    print(f'The sum of {a} + {b} is {a + b}.')\n",
    "    return a + b"
   ]
  },
  {
   "cell_type": "markdown",
   "metadata": {
    "slideshow": {
     "slide_type": "subslide"
    }
   },
   "source": [
    "Now, let's call the functions"
   ]
  },
  {
   "cell_type": "code",
   "execution_count": null,
   "metadata": {
    "slideshow": {
     "slide_type": "fragment"
    }
   },
   "outputs": [],
   "source": [
    "greeting_function()\n",
    "result = sum_two_numbers(7, 3)"
   ]
  },
  {
   "cell_type": "markdown",
   "metadata": {
    "slideshow": {
     "slide_type": "fragment"
    }
   },
   "source": [
    "Note that all Python functions return some value. The return value is ``None`` if the return statement is omitted or the statement is just ``return``. It is also possible to return multiple values."
   ]
  },
  {
   "cell_type": "markdown",
   "metadata": {
    "slideshow": {
     "slide_type": "subslide"
    }
   },
   "source": [
    "### Default Arguments\n",
    "Python allows function arguments to have default values. If the function is called without the argument, the argument gets its default value. The default value is assigned by using assignment operator ``=``."
   ]
  },
  {
   "cell_type": "code",
   "execution_count": null,
   "metadata": {
    "slideshow": {
     "slide_type": "fragment"
    }
   },
   "outputs": [],
   "source": [
    "def sum_two_numbers(a, b=5):\n",
    "    print(f'The sum of {a} + {b} is {a + b}.')\n",
    "    return a + b\n",
    "\n",
    "\n",
    "num_plus5 = sum_two_numbers(3)\n",
    "print(num_plus5)\n",
    "num_plus7 = sum_two_numbers(3, 7)\n",
    "print(num_plus7)"
   ]
  },
  {
   "cell_type": "markdown",
   "metadata": {
    "slideshow": {
     "slide_type": "subslide"
    }
   },
   "source": [
    "When using more than one default argument, it adds to readability when including the argument name in the function call:"
   ]
  },
  {
   "cell_type": "code",
   "execution_count": null,
   "metadata": {
    "slideshow": {
     "slide_type": "fragment"
    }
   },
   "outputs": [],
   "source": [
    "def process_string(sentence, lowercase=False, split=False, strip=False):\n",
    "    if lowercase:\n",
    "        sentence = sentence.lower()\n",
    "    if strip:\n",
    "        sentence = sentence.strip()\n",
    "    if split:\n",
    "        sentence = sentence.split()\n",
    "    return sentence\n",
    "\n",
    "\n",
    "process_string('   How Python handles multiple default arguments:    ',\n",
    "               lowercase=True,\n",
    "               strip=True)"
   ]
  },
  {
   "cell_type": "markdown",
   "metadata": {
    "slideshow": {
     "slide_type": "slide"
    }
   },
   "source": [
    "<a name=\"pyclasses\"></a>\n",
    "## Classes\n",
    "![Cars - The Film](https://www.looper.com/img/gallery/things-about-cars-you-only-notice-as-an-adult/intro-1623126280.webp)"
   ]
  },
  {
   "cell_type": "markdown",
   "metadata": {
    "slideshow": {
     "slide_type": "subslide"
    }
   },
   "source": [
    "Objects are an encapsulation of variables and functions into a single entity. Objects get their variables and functions from classes. Classes are essentially a template to create your objects."
   ]
  },
  {
   "cell_type": "markdown",
   "metadata": {
    "slideshow": {
     "slide_type": "subslide"
    }
   },
   "source": [
    "This is an example for a basic class named ``Car`` with four class variables and a class function (= method). The last line instantiates a variable ``mcqueen`` that holds an object of type ``Car``:"
   ]
  },
  {
   "cell_type": "code",
   "execution_count": null,
   "metadata": {
    "slideshow": {
     "slide_type": "fragment"
    }
   },
   "outputs": [],
   "source": [
    "class Car:\n",
    "    name = \"\"\n",
    "    kind = \"\"\n",
    "    color = \"\"\n",
    "    value = 100000.00\n",
    "\n",
    "    def description(self):\n",
    "        description_str = f\"{self.name} is a {self.color} {self.kind} worth {self.value:.2f} €.\"\n",
    "        return description_str\n",
    "\n",
    "\n",
    "mcqueen = Car()"
   ]
  },
  {
   "cell_type": "markdown",
   "metadata": {
    "slideshow": {
     "slide_type": "subslide"
    }
   },
   "source": [
    "Set the values of variable ``mcqueen`` and call the object's function:"
   ]
  },
  {
   "cell_type": "code",
   "execution_count": null,
   "metadata": {
    "slideshow": {
     "slide_type": "fragment"
    }
   },
   "outputs": [],
   "source": [
    "mcqueen.name = \"Lightning McQueen\"\n",
    "mcqueen.color = \"red\"\n",
    "mcqueen.kind = \"Corvette\"\n",
    "\n",
    "mcqueen_descr = mcqueen.description()\n",
    "print(mcqueen_descr)"
   ]
  },
  {
   "cell_type": "markdown",
   "metadata": {
    "slideshow": {
     "slide_type": "subslide"
    }
   },
   "source": [
    "### `__init__()`\n",
    "\n",
    "The example above is a class and object in their simplest form as they are rarely used in real life applications. All Python classes have a built-in method called ``__init__()``, which is always executed automatically when the class is being initiated. The ``__init__()`` method is used to assign values to object properties, or other operations that are necessary to do when the object is being created:"
   ]
  },
  {
   "cell_type": "code",
   "execution_count": null,
   "metadata": {
    "slideshow": {
     "slide_type": "subslide"
    }
   },
   "outputs": [],
   "source": [
    "class Car:\n",
    "\n",
    "    def __init__(self, name, kind, color):\n",
    "        self.name = name\n",
    "        self.kind = kind\n",
    "        self.color = color\n",
    "        self.value = 100000.00\n",
    "\n",
    "    def description(self):\n",
    "        description_str = f\"{self.name} is a {self.color} {self.kind} worth {self.value:.2f} €.\"\n",
    "        return description_str\n",
    "\n",
    "\n",
    "mcqueen = Car('Lightning McQueen', 'Corvette', 'red')\n",
    "print(mcqueen.description())\n",
    "print(mcqueen.name)"
   ]
  },
  {
   "cell_type": "markdown",
   "metadata": {
    "slideshow": {
     "slide_type": "subslide"
    }
   },
   "source": [
    "### The self Parameter\n",
    "The ``self`` parameter is a reference to the current instance of the class. It is used to access variables that belong to the class.\n",
    "\n",
    "It does not have to be named ``self``, but it has to be the first parameter of any function in the class."
   ]
  },
  {
   "cell_type": "markdown",
   "metadata": {
    "slideshow": {
     "slide_type": "subslide"
    },
    "tags": []
   },
   "source": [
    "### Other special method names \n",
    "\n",
    "Apart from `__init__`, there are other reserved special names as well, like `__del__` and `__doc__`. See the [Python Docs](https://docs.python.org/3/reference/datamodel.html#basic-customization) for more information."
   ]
  },
  {
   "cell_type": "markdown",
   "metadata": {
    "slideshow": {
     "slide_type": "subslide"
    }
   },
   "source": [
    "### Access modifiers\n",
    "\n",
    "There is not really a way to have the access modifiers implemented in a python class. A workaround is normaly used, where `private` members are named with a leading underscore `_`."
   ]
  },
  {
   "cell_type": "code",
   "execution_count": null,
   "metadata": {
    "slideshow": {
     "slide_type": "fragment"
    }
   },
   "outputs": [],
   "source": [
    "class PrivateCar:\n",
    "    _name = \"\"\n",
    "    _kind = \"\"\n",
    "    _color = \"\"\n",
    "    _value = 100000.00\n",
    "\n",
    "\n",
    "privateMcQueen = PrivateCar()\n",
    "privateMcQueen._name = \"foo\"  # normaly would expect a violation here"
   ]
  },
  {
   "cell_type": "markdown",
   "metadata": {
    "slideshow": {
     "slide_type": "subslide"
    }
   },
   "source": [
    "### Class and Instance Variables\n",
    "Source: [Python Docs](https://docs.python.org/3/tutorial/classes.html#class-and-instance-variables).\n",
    "\n",
    "There are two types of variables within a Python Classes, that behave differently:\n",
    "- Class Variables\n",
    "- Instance Variables"
   ]
  },
  {
   "cell_type": "code",
   "execution_count": null,
   "metadata": {
    "slideshow": {
     "slide_type": "subslide"
    }
   },
   "outputs": [],
   "source": [
    "class Dog:\n",
    "\n",
    "    kind = 'canine'  # class variable shared by all instances\n",
    "\n",
    "    def __init__(self, name):\n",
    "        self.name = name  # instance variable unique to each instance"
   ]
  },
  {
   "cell_type": "code",
   "execution_count": null,
   "metadata": {
    "slideshow": {
     "slide_type": "fragment"
    }
   },
   "outputs": [],
   "source": [
    "d = Dog('Fido')\n",
    "e = Dog('Buddy')"
   ]
  },
  {
   "cell_type": "code",
   "execution_count": null,
   "metadata": {
    "slideshow": {
     "slide_type": "fragment"
    }
   },
   "outputs": [],
   "source": [
    "d.kind"
   ]
  },
  {
   "cell_type": "code",
   "execution_count": null,
   "metadata": {
    "slideshow": {
     "slide_type": "fragment"
    }
   },
   "outputs": [],
   "source": [
    "e.kind"
   ]
  },
  {
   "cell_type": "code",
   "execution_count": null,
   "metadata": {
    "slideshow": {
     "slide_type": "fragment"
    }
   },
   "outputs": [],
   "source": [
    "d.name"
   ]
  },
  {
   "cell_type": "code",
   "execution_count": null,
   "metadata": {
    "slideshow": {
     "slide_type": "fragment"
    }
   },
   "outputs": [],
   "source": [
    "e.name"
   ]
  },
  {
   "cell_type": "markdown",
   "metadata": {
    "slideshow": {
     "slide_type": "subslide"
    }
   },
   "source": [
    "__Attention:__ don't mix them up!"
   ]
  },
  {
   "cell_type": "code",
   "execution_count": null,
   "metadata": {
    "slideshow": {
     "slide_type": "fragment"
    }
   },
   "outputs": [],
   "source": [
    "class TrickDog:\n",
    "\n",
    "    tricks = []  # mistaken use of a class variable\n",
    "\n",
    "    def __init__(self, name):\n",
    "        self.name = name\n",
    "\n",
    "    def add_trick(self, trick):\n",
    "        self.tricks.append(trick)"
   ]
  },
  {
   "cell_type": "code",
   "execution_count": null,
   "metadata": {
    "slideshow": {
     "slide_type": "fragment"
    }
   },
   "outputs": [],
   "source": [
    "d = TrickDog('Fido')\n",
    "e = TrickDog('Buddy')\n",
    "d.add_trick('roll over')\n",
    "e.add_trick('play dead')"
   ]
  },
  {
   "cell_type": "code",
   "execution_count": null,
   "metadata": {
    "slideshow": {
     "slide_type": "fragment"
    }
   },
   "outputs": [],
   "source": [
    "e.tricks"
   ]
  },
  {
   "cell_type": "markdown",
   "metadata": {
    "slideshow": {
     "slide_type": "subslide"
    }
   },
   "source": [
    "__How to make it correct__"
   ]
  },
  {
   "cell_type": "code",
   "execution_count": null,
   "metadata": {
    "slideshow": {
     "slide_type": "fragment"
    }
   },
   "outputs": [],
   "source": [
    "class WinningTrickDog:\n",
    "\n",
    "    def __init__(self, name):\n",
    "        self.name = name\n",
    "        self.tricks = []  # creates a new empty list for each dog\n",
    "\n",
    "    def add_trick(self, trick):\n",
    "        self.tricks.append(trick)"
   ]
  },
  {
   "cell_type": "code",
   "execution_count": null,
   "metadata": {
    "slideshow": {
     "slide_type": "fragment"
    }
   },
   "outputs": [],
   "source": [
    "d = WinningTrickDog('Fido')\n",
    "e = WinningTrickDog('Buddy')\n",
    "d.add_trick('roll over')\n",
    "e.add_trick('play dead')"
   ]
  },
  {
   "cell_type": "code",
   "execution_count": null,
   "metadata": {
    "slideshow": {
     "slide_type": "fragment"
    }
   },
   "outputs": [],
   "source": [
    "d.tricks"
   ]
  },
  {
   "cell_type": "code",
   "execution_count": null,
   "metadata": {
    "slideshow": {
     "slide_type": "fragment"
    }
   },
   "outputs": [],
   "source": [
    "e.tricks"
   ]
  },
  {
   "cell_type": "markdown",
   "metadata": {
    "slideshow": {
     "slide_type": "subslide"
    }
   },
   "source": [
    "<div class=\"alert alert-block alert-info\">\n",
    "<b>INFO</b><br/> There is also a difference on instance and class functions. More on that during the exercises.\n",
    "</div>"
   ]
  },
  {
   "cell_type": "markdown",
   "metadata": {
    "slideshow": {
     "slide_type": "subslide"
    }
   },
   "source": [
    "### Short Note on a Object's Lifetime\n",
    "\n",
    "Objects are never explicitly destroyed; however, when they become unreachable they may be garbage-collected. An implementation is allowed to postpone garbage collection or omit it altogether — it is a matter of implementation quality how garbage collection is implemented, as long as no objects are collected that are still reachable.\n",
    "\n",
    "__Source:__ https://docs.python.org/3.11/reference/datamodel.html#objects-values-and-types"
   ]
  },
  {
   "cell_type": "markdown",
   "metadata": {
    "slideshow": {
     "slide_type": "subslide"
    }
   },
   "source": [
    "## Python Naming Conventions\n",
    "> - Function names should be all lower case\n",
    "> - Words in a function name should be separated by an underscore\n",
    "> - Class names should follow the UpperCaseCamelCase convention\n",
    "> - Python’s built-in classes, however, are typically lowercase words"
   ]
  },
  {
   "cell_type": "markdown",
   "metadata": {
    "slideshow": {
     "slide_type": "slide"
    }
   },
   "source": [
    "<a name=\"pydicts\"></a>\n",
    "## Dictionaries\n",
    "A dictionary is a data type similar to lists, but works with keys and values instead of indexes. Each value stored in a dictionary can be accessed using a key, which can be any type of object, instead of using its index. A dictionary is indicated by curly brackets ``{}``.\n",
    "![MLB logo](https://cdn.iconscout.com/icon/free/png-256/major-285385.png)"
   ]
  },
  {
   "cell_type": "markdown",
   "metadata": {
    "slideshow": {
     "slide_type": "subslide"
    }
   },
   "source": [
    "Fill initially empty dictionary"
   ]
  },
  {
   "cell_type": "code",
   "execution_count": null,
   "metadata": {
    "slideshow": {
     "slide_type": "fragment"
    }
   },
   "outputs": [],
   "source": [
    "MLB_team = {}  # same as MLB = dict()\n",
    "MLB_team['Colorado'] = 'Rockies'\n",
    "MLB_team['Boston'] = 'Red Sox'\n",
    "MLB_team['Minnesota'] = 'Twins'\n",
    "MLB_team['Milwaukee'] = 'Brewers'\n",
    "MLB_team['Seattle'] = 'Mariners'\n",
    "print(MLB_team)"
   ]
  },
  {
   "cell_type": "markdown",
   "metadata": {
    "slideshow": {
     "slide_type": "fragment"
    }
   },
   "source": [
    "Directly fill dictionary with items (key:value - pairs)"
   ]
  },
  {
   "cell_type": "code",
   "execution_count": null,
   "metadata": {
    "slideshow": {
     "slide_type": "fragment"
    }
   },
   "outputs": [],
   "source": [
    "MLB_team = {\n",
    "    'Colorado': 'Rockies',\n",
    "    'Boston': 'Red Sox',\n",
    "    'Minnesota': 'Twins',\n",
    "    'Milwaukee': 'Brewers',\n",
    "    'Seattle': 'Mariners'\n",
    "}\n",
    "print(MLB_team)"
   ]
  },
  {
   "cell_type": "markdown",
   "metadata": {
    "slideshow": {
     "slide_type": "subslide"
    }
   },
   "source": [
    "### Accessing Dictionary Values\n",
    "The dictionary entries are displayed in the order they were defined. But that is irrelevant when it comes to retrieving them. Dictionary elements are not accessed by numerical index:"
   ]
  },
  {
   "cell_type": "code",
   "execution_count": null,
   "metadata": {
    "slideshow": {
     "slide_type": "fragment"
    }
   },
   "outputs": [],
   "source": [
    "MLB_team[0]  # this throws an exception"
   ]
  },
  {
   "cell_type": "markdown",
   "metadata": {
    "slideshow": {
     "slide_type": "subslide"
    }
   },
   "source": [
    "The same error is raised when trying to access an inexistent key:"
   ]
  },
  {
   "cell_type": "code",
   "execution_count": null,
   "metadata": {
    "slideshow": {
     "slide_type": "fragment"
    }
   },
   "outputs": [],
   "source": [
    "MLB_team['Pittsburgh']"
   ]
  },
  {
   "cell_type": "markdown",
   "metadata": {
    "slideshow": {
     "slide_type": "subslide"
    }
   },
   "source": [
    "Access a dictionary's values using keys. This way, you can also update a given value or delete it."
   ]
  },
  {
   "cell_type": "code",
   "execution_count": null,
   "metadata": {
    "slideshow": {
     "slide_type": "fragment"
    }
   },
   "outputs": [],
   "source": [
    "print(MLB_team['Seattle'])"
   ]
  },
  {
   "cell_type": "code",
   "execution_count": null,
   "metadata": {
    "slideshow": {
     "slide_type": "fragment"
    }
   },
   "outputs": [],
   "source": [
    "MLB_team['Seattle'] = 'Pilots'\n",
    "print(MLB_team['Seattle'])"
   ]
  },
  {
   "cell_type": "code",
   "execution_count": null,
   "metadata": {
    "slideshow": {
     "slide_type": "fragment"
    }
   },
   "outputs": [],
   "source": [
    "del MLB_team['Seattle']  # or: MLB_team.pop('Seattle')\n",
    "print(MLB_team)"
   ]
  },
  {
   "cell_type": "markdown",
   "metadata": {
    "slideshow": {
     "slide_type": "subslide"
    }
   },
   "source": [
    "You can also iterate over all dictionary items:"
   ]
  },
  {
   "cell_type": "code",
   "execution_count": null,
   "metadata": {
    "slideshow": {
     "slide_type": "fragment"
    }
   },
   "outputs": [],
   "source": [
    "for city, team in MLB_team.items():\n",
    "    print(f\"{city}'s team is called {team}.\")"
   ]
  },
  {
   "cell_type": "markdown",
   "metadata": {
    "slideshow": {
     "slide_type": "subslide"
    }
   },
   "source": [
    "### Lists vs. Dictionaries\n",
    "1. Both are mutable.\n",
    "2. Both are dynamic. They can grow and shrink as needed.\n",
    "3. Both can be nested. A list can contain another list. A dictionary can contain another dictionary. A dictionary can also contain a list, and vice versa.\n",
    "4. List elements are accessed by their position via indexing.\n",
    "5. Dictionary elements are accessed via keys."
   ]
  },
  {
   "cell_type": "markdown",
   "metadata": {
    "slideshow": {
     "slide_type": "slide"
    }
   },
   "source": [
    "<a name=\"pysets\"></a>\n",
    "## Sets\n",
    "Simply put, sets are lists with no duplicate entries. In fact, a set has the following characteristics:\n",
    "- Sets are unordered.\n",
    "- Set elements are unique. Duplicate elements are not allowed.\n",
    "- A set itself may be modified, but the elements contained in the set must be of an immutable type."
   ]
  },
  {
   "cell_type": "markdown",
   "metadata": {
    "slideshow": {
     "slide_type": "subslide"
    }
   },
   "source": [
    "## Mutable vs Immutable Objects\n",
    "Simply put, mutable objects can be changed after they are created, while immutable objects can't.\n",
    "\n",
    "**Immutable objects:**\n",
    "\n",
    "int, float, string, tuple, bytes\n",
    "\n",
    "**Mutable objects:**\n",
    "\n",
    "list, dict, set"
   ]
  },
  {
   "cell_type": "markdown",
   "metadata": {
    "slideshow": {
     "slide_type": "subslide"
    }
   },
   "source": [
    "We now create an object of type int. Note how ``x`` and ``y`` point to the same object. \n",
    "\n",
    "\n",
    "__CPython implementation detail:__ For CPython, `id(x)` is the memory address where `x` is stored.\n"
   ]
  },
  {
   "cell_type": "code",
   "execution_count": null,
   "metadata": {
    "slideshow": {
     "slide_type": "fragment"
    }
   },
   "outputs": [],
   "source": [
    "x = 10\n",
    "y = x\n",
    "print(f'{id(x)}, {id(y)}, {id(10)}')"
   ]
  },
  {
   "cell_type": "markdown",
   "metadata": {
    "slideshow": {
     "slide_type": "fragment"
    }
   },
   "source": [
    "compare the values"
   ]
  },
  {
   "cell_type": "code",
   "execution_count": null,
   "metadata": {
    "slideshow": {
     "slide_type": "fragment"
    }
   },
   "outputs": [],
   "source": [
    "print(x == y)\n",
    "print(x == 10)\n",
    "print(y == 10)"
   ]
  },
  {
   "cell_type": "markdown",
   "metadata": {
    "slideshow": {
     "slide_type": "fragment"
    }
   },
   "source": [
    "compare the objects (= object ids)"
   ]
  },
  {
   "cell_type": "code",
   "execution_count": null,
   "metadata": {
    "slideshow": {
     "slide_type": "fragment"
    }
   },
   "outputs": [],
   "source": [
    "print(x is y)\n",
    "print(x is 10)\n",
    "print(y is 10)"
   ]
  },
  {
   "cell_type": "markdown",
   "metadata": {
    "slideshow": {
     "slide_type": "subslide"
    }
   },
   "source": [
    "See what happens when we change the value of \"x\":"
   ]
  },
  {
   "cell_type": "code",
   "execution_count": null,
   "metadata": {
    "slideshow": {
     "slide_type": "fragment"
    }
   },
   "outputs": [],
   "source": [
    "x += 1\n",
    "print(f'{id(x)}, {id(y)}, {id(10)}')"
   ]
  },
  {
   "cell_type": "markdown",
   "metadata": {
    "slideshow": {
     "slide_type": "fragment"
    }
   },
   "source": [
    "compare the values"
   ]
  },
  {
   "cell_type": "code",
   "execution_count": null,
   "metadata": {
    "slideshow": {
     "slide_type": "fragment"
    }
   },
   "outputs": [],
   "source": [
    "print(x == y)\n",
    "print(x == 10)\n",
    "print(y == 10)"
   ]
  },
  {
   "cell_type": "markdown",
   "metadata": {
    "slideshow": {
     "slide_type": "fragment"
    }
   },
   "source": [
    "compare the objects (= object ids)"
   ]
  },
  {
   "cell_type": "code",
   "execution_count": null,
   "metadata": {
    "slideshow": {
     "slide_type": "fragment"
    }
   },
   "outputs": [],
   "source": [
    "print(x is y)\n",
    "print(x is 10)\n",
    "print(y is 10)"
   ]
  },
  {
   "cell_type": "markdown",
   "metadata": {
    "slideshow": {
     "slide_type": "subslide"
    }
   },
   "source": [
    "\"Changing the value\" of an immutable object in fact **creates a new object**! Object 10 was never changed."
   ]
  },
  {
   "cell_type": "markdown",
   "metadata": {
    "slideshow": {
     "slide_type": "subslide"
    }
   },
   "source": [
    "Now compare this to the behaviour of a mutable object, e.g. a list:"
   ]
  },
  {
   "cell_type": "code",
   "execution_count": null,
   "metadata": {
    "slideshow": {
     "slide_type": "fragment"
    }
   },
   "outputs": [],
   "source": [
    "first_list = [1, 2, 3]\n",
    "also_first_list = first_list\n",
    "print(f'{id(first_list)}, {id(also_first_list)}')"
   ]
  },
  {
   "cell_type": "markdown",
   "metadata": {
    "slideshow": {
     "slide_type": "fragment"
    }
   },
   "source": [
    "compare the values"
   ]
  },
  {
   "cell_type": "code",
   "execution_count": null,
   "metadata": {
    "slideshow": {
     "slide_type": "fragment"
    }
   },
   "outputs": [],
   "source": [
    "print(first_list == also_first_list)"
   ]
  },
  {
   "cell_type": "markdown",
   "metadata": {
    "slideshow": {
     "slide_type": "fragment"
    }
   },
   "source": [
    "compare the objects (= object ids)"
   ]
  },
  {
   "cell_type": "code",
   "execution_count": null,
   "metadata": {
    "slideshow": {
     "slide_type": "fragment"
    }
   },
   "outputs": [],
   "source": [
    "print(first_list is also_first_list)"
   ]
  },
  {
   "cell_type": "markdown",
   "metadata": {
    "slideshow": {
     "slide_type": "subslide"
    }
   },
   "source": [
    "And see what happens if we change the list (e.g. removing an element):"
   ]
  },
  {
   "cell_type": "code",
   "execution_count": null,
   "metadata": {
    "slideshow": {
     "slide_type": "fragment"
    }
   },
   "outputs": [],
   "source": [
    "first_list.pop()\n",
    "print(first_list)\n",
    "print(f'{id(first_list)}, {id(also_first_list)}')"
   ]
  },
  {
   "cell_type": "markdown",
   "metadata": {
    "slideshow": {
     "slide_type": "fragment"
    }
   },
   "source": [
    "compare the values"
   ]
  },
  {
   "cell_type": "code",
   "execution_count": null,
   "metadata": {
    "slideshow": {
     "slide_type": "fragment"
    }
   },
   "outputs": [],
   "source": [
    "print(first_list == also_first_list)"
   ]
  },
  {
   "cell_type": "markdown",
   "metadata": {
    "slideshow": {
     "slide_type": "fragment"
    }
   },
   "source": [
    "compare the objects (= object ids)"
   ]
  },
  {
   "cell_type": "code",
   "execution_count": null,
   "metadata": {
    "slideshow": {
     "slide_type": "fragment"
    }
   },
   "outputs": [],
   "source": [
    "print(first_list is also_first_list)"
   ]
  },
  {
   "cell_type": "markdown",
   "metadata": {
    "slideshow": {
     "slide_type": "subslide"
    }
   },
   "source": [
    "The two lists still point to the same object (same object id). **Both** lists have been affected by the modification!\n",
    "\n",
    "*from: [Blog post](https://medium.com/@meghamohan/mutable-and-immutable-side-of-python-c2145cf72747)*"
   ]
  },
  {
   "cell_type": "code",
   "execution_count": null,
   "metadata": {
    "slideshow": {
     "slide_type": "fragment"
    }
   },
   "outputs": [],
   "source": [
    "print(first_list)\n",
    "print(also_first_list)"
   ]
  },
  {
   "cell_type": "markdown",
   "metadata": {
    "slideshow": {
     "slide_type": "subslide"
    }
   },
   "source": [
    "### Back to sets\n",
    "\n",
    "Let's say you want to collect a list of unique words used in a sentence. This is where a set comes in handy:"
   ]
  },
  {
   "cell_type": "code",
   "execution_count": null,
   "metadata": {
    "slideshow": {
     "slide_type": "fragment"
    }
   },
   "outputs": [],
   "source": [
    "print(set(\"my name is Jonathan and Jonathan is my name\".split()))"
   ]
  },
  {
   "cell_type": "markdown",
   "metadata": {
    "slideshow": {
     "slide_type": "fragment"
    }
   },
   "source": [
    "**QUESTIONS**\n",
    "\n",
    "* Analyze this statement:\n",
    "  1. What does the function split() do to the sentence?\n",
    "  1. What does the print output look like, if you delete the ``set()`` call?\n",
    "  1. What is the difference between the two outputs?"
   ]
  },
  {
   "cell_type": "code",
   "execution_count": null,
   "metadata": {
    "deletable": false,
    "nbgrader": {
     "cell_type": "code",
     "checksum": "c1b6b08415900daa05b7545f13b7b9e5",
     "grade": true,
     "grade_id": "cell-22cac42addd3c000",
     "locked": false,
     "points": 0,
     "schema_version": 3,
     "solution": true,
     "task": false
    },
    "slideshow": {
     "slide_type": "skip"
    }
   },
   "outputs": [],
   "source": [
    "# YOUR CODE HERE\n",
    "raise NotImplementedError()"
   ]
  },
  {
   "cell_type": "markdown",
   "metadata": {
    "slideshow": {
     "slide_type": "subslide"
    }
   },
   "source": [
    "### Set Operations\n",
    "Many of the operations that can be used for Python’s other composite data types don’t make sense for sets. For example, sets can’t be indexed or sliced. However, Python provides a range of operations on set objects that generally mimic the operations that are defined for mathematical sets."
   ]
  },
  {
   "cell_type": "markdown",
   "metadata": {
    "slideshow": {
     "slide_type": "subslide"
    }
   },
   "source": [
    "Recall some of these mathematical set operators and try to guess which operator symbols could be used to implement them. Use the two sets of terms below to experiment with these operators.\n",
    "\n",
    "__TODO:__ find out about Python's set operators (union, intersection, difference)"
   ]
  },
  {
   "cell_type": "code",
   "execution_count": null,
   "metadata": {
    "deletable": false,
    "nbgrader": {
     "cell_type": "code",
     "checksum": "59ebd9b60bc94a556f3edc07b79ed83c",
     "grade": true,
     "grade_id": "cell-15aea90fd9474b2e",
     "locked": false,
     "points": 0,
     "schema_version": 3,
     "solution": true,
     "task": false
    },
    "slideshow": {
     "slide_type": "fragment"
    }
   },
   "outputs": [],
   "source": [
    "english_terms = {\n",
    "    \"computer\", \"mouse\", \"keyboard\", \"display\", \"window\", \"application\"\n",
    "}\n",
    "german_terms = {\n",
    "    \"computer\", \"mouse\", \"tastatur\", \"monitor\", \"fenster\", \"anwendung\"\n",
    "}\n",
    "\n",
    "# YOUR CODE HERE\n",
    "raise NotImplementedError()"
   ]
  },
  {
   "cell_type": "markdown",
   "metadata": {
    "slideshow": {
     "slide_type": "slide"
    }
   },
   "source": [
    "<a name=\"listcomprehension\"></a>\n",
    "## List Comprehension\n",
    "List comprehensions are an advanced Python topic that are really useful to shorten code (whilst usually remaining readable)."
   ]
  },
  {
   "cell_type": "markdown",
   "metadata": {
    "slideshow": {
     "slide_type": "subslide"
    }
   },
   "source": [
    "Take a look at the above code and try to explain in words, what it does."
   ]
  },
  {
   "cell_type": "code",
   "execution_count": null,
   "metadata": {
    "slideshow": {
     "slide_type": "fragment"
    }
   },
   "outputs": [],
   "source": [
    "sentence = \"the quick brown fox jumps over the lazy dog\"\n",
    "words = sentence.split()\n",
    "word_lengths = []\n",
    "for word in words:\n",
    "    if word != \"the\":\n",
    "        word_lengths.append(len(word))\n",
    "print(word_lengths)"
   ]
  },
  {
   "cell_type": "markdown",
   "metadata": {
    "slideshow": {
     "slide_type": "subslide"
    }
   },
   "source": [
    "Next, look at the code below and see how elegantly this can be achieved in a single line (instead of five):"
   ]
  },
  {
   "cell_type": "code",
   "execution_count": null,
   "metadata": {
    "slideshow": {
     "slide_type": "fragment"
    }
   },
   "outputs": [],
   "source": [
    "word_lengths = [len(word) for word in sentence.split() if word != \"the\"]\n",
    "print(word_lengths)"
   ]
  },
  {
   "cell_type": "markdown",
   "metadata": {
    "slideshow": {
     "slide_type": "slide"
    }
   },
   "source": [
    "<a name=\"exceptions\"></a>\n",
    "# Exception Handling\n",
    "First, let's consider the following C-style example:"
   ]
  },
  {
   "cell_type": "code",
   "execution_count": null,
   "metadata": {
    "slideshow": {
     "slide_type": "fragment"
    }
   },
   "outputs": [],
   "source": [
    "def some_function(a: int) -> bool:\n",
    "    if 30 > a > 0:\n",
    "        return 0\n",
    "    if a >= 30:\n",
    "        return 1\n",
    "    return -1  # error state\n",
    "\n",
    "\n",
    "print(some_function(-2))"
   ]
  },
  {
   "cell_type": "code",
   "execution_count": null,
   "metadata": {
    "slideshow": {
     "slide_type": "fragment"
    }
   },
   "outputs": [],
   "source": [
    "int(23, 5)"
   ]
  },
  {
   "cell_type": "markdown",
   "metadata": {
    "slideshow": {
     "slide_type": "subslide"
    }
   },
   "source": [
    "#### General Structure \n",
    "of a try-except block looks like:\n",
    "\n",
    "```Python\n",
    "try:\n",
    "    # You do your operations here;\n",
    "\n",
    "except ExceptionI:\n",
    "    # If there is ExceptionI, then execute this block.\n",
    "\n",
    "except ExceptionII:\n",
    "    # If there is ExceptionII, then execute this block.\n",
    "\n",
    "else:\n",
    "    # If there is no exception then execute this block. \n",
    "\n",
    "finally:\n",
    "    # This block is always executed\n",
    "```"
   ]
  },
  {
   "cell_type": "markdown",
   "metadata": {
    "slideshow": {
     "slide_type": "fragment"
    }
   },
   "source": [
    "#### Properties\n",
    "The above mentions syntax brings up a few properties:\n",
    "\n",
    "- One `try` statement can have multiple except statements (e.g. a `Value Error` and a `Type Error`).\n",
    "\n",
    "- A generic exception clause can be applied (catches all exceptions thrown).\n",
    "\n",
    "- an `else` statement can be used (not in the block's protection)\n"
   ]
  },
  {
   "cell_type": "code",
   "execution_count": null,
   "metadata": {
    "slideshow": {
     "slide_type": "subslide"
    }
   },
   "outputs": [],
   "source": [
    "try:\n",
    "\n",
    "    with open(\"testfile\", \"r\") as fh:\n",
    "        fh.write(\"This is my test file for exception handling!!\")\n",
    "\n",
    "except IOError:\n",
    "    print(\"Error: can\\'t find file or read data\")\n",
    "else:\n",
    "    print(\"Written content in the file successfully\")"
   ]
  },
  {
   "cell_type": "markdown",
   "metadata": {
    "slideshow": {
     "slide_type": "subslide"
    }
   },
   "source": [
    "#### try-finally clause\n",
    "the `finally` block is always executed, no matter what."
   ]
  },
  {
   "cell_type": "code",
   "execution_count": null,
   "metadata": {
    "slideshow": {
     "slide_type": "fragment"
    }
   },
   "outputs": [],
   "source": [
    "try:\n",
    "    #raise ValueError\n",
    "    pass\n",
    "except ValueError:\n",
    "    print(\"This is a ValueError\")\n",
    "finally:\n",
    "    print(\"This is always called.\")"
   ]
  },
  {
   "cell_type": "markdown",
   "metadata": {
    "slideshow": {
     "slide_type": "subslide"
    }
   },
   "source": [
    "#### Argument of an Exception"
   ]
  },
  {
   "cell_type": "code",
   "execution_count": null,
   "metadata": {
    "slideshow": {
     "slide_type": "fragment"
    }
   },
   "outputs": [],
   "source": [
    "# Define a function here.\n",
    "def temp_convert(var):\n",
    "    try:\n",
    "        return int(var)\n",
    "    except ValueError as arg:\n",
    "        print(\"The argument does not contain numbers\\n\", arg)\n",
    "\n",
    "\n",
    "# Call above function here.\n",
    "temp_convert(\"xyz\")"
   ]
  },
  {
   "cell_type": "code",
   "execution_count": null,
   "metadata": {
    "slideshow": {
     "slide_type": "fragment"
    }
   },
   "outputs": [],
   "source": [
    "try:\n",
    "    raise Exception('spam', 'eggs')\n",
    "except Exception as arg:\n",
    "    print(type(arg))  # the exception instance\n",
    "    print(arg.args)  # arguments stored in .args\n",
    "    print(arg)  # __str__ allows args to be printed directly,\n",
    "    # but may be overridden in exception subclasses\n",
    "    \n",
    "    x, y = arg.args  # unpack args\n",
    "    print('x =', x)\n",
    "    print('y =', y)"
   ]
  },
  {
   "cell_type": "markdown",
   "metadata": {
    "slideshow": {
     "slide_type": "subslide"
    }
   },
   "source": [
    "### Raising Exceptions \n",
    "It is as simple as everything in Python."
   ]
  },
  {
   "cell_type": "code",
   "execution_count": null,
   "metadata": {
    "slideshow": {
     "slide_type": "fragment"
    }
   },
   "outputs": [],
   "source": [
    "raise NameError('Hello World!')"
   ]
  },
  {
   "cell_type": "code",
   "execution_count": null,
   "metadata": {
    "slideshow": {
     "slide_type": "fragment"
    }
   },
   "outputs": [],
   "source": [
    "def some_function3(a: int) -> int:\n",
    "    if a < 0:\n",
    "        raise Exception(\"Hello, is it me you're looking for?\")\n",
    "    else:\n",
    "        raise NameError(\n",
    "            \"Never gonna give you up\\nNever gonna let you down\\nNever gonna run around and desert you\"\n",
    "        )\n",
    "\n",
    "\n",
    "some_function3(0)"
   ]
  },
  {
   "cell_type": "markdown",
   "metadata": {
    "slideshow": {
     "slide_type": "subslide"
    }
   },
   "source": [
    "### Exception Chaining"
   ]
  },
  {
   "cell_type": "code",
   "execution_count": null,
   "metadata": {
    "slideshow": {
     "slide_type": "fragment"
    }
   },
   "outputs": [],
   "source": [
    "def func():\n",
    "    raise IOError\n",
    "\n",
    "\n",
    "try:\n",
    "    func()\n",
    "except IOError as exc:\n",
    "    raise RuntimeError('Failed to open database') from exc"
   ]
  },
  {
   "cell_type": "markdown",
   "metadata": {
    "slideshow": {
     "slide_type": "subslide"
    }
   },
   "source": [
    "### User-defined Exceptions"
   ]
  },
  {
   "cell_type": "code",
   "execution_count": null,
   "metadata": {
    "slideshow": {
     "slide_type": "fragment"
    }
   },
   "outputs": [],
   "source": [
    "class Error(Exception):\n",
    "    \"\"\"Base class for exceptions in this module.\"\"\"\n",
    "    pass\n",
    "\n",
    "\n",
    "class InputError(Error):\n",
    "    \"\"\"Exception raised for errors in the input.\n",
    "\n",
    "    Attributes:\n",
    "        expression -- input expression in which the error occurred\n",
    "        message -- explanation of the error\n",
    "    \"\"\"\n",
    "\n",
    "    def __init__(self, expression, message):\n",
    "        self.expression = expression\n",
    "        self.message = message"
   ]
  },
  {
   "cell_type": "code",
   "execution_count": null,
   "metadata": {
    "slideshow": {
     "slide_type": "fragment"
    }
   },
   "outputs": [],
   "source": [
    "raise InputError(sum, message=\"This is an explanation.\")"
   ]
  },
  {
   "cell_type": "markdown",
   "metadata": {
    "slideshow": {
     "slide_type": "slide"
    },
    "tags": []
   },
   "source": [
    "<a name=\"exercises\"></a>\n",
    "## Wrap-up Exercises"
   ]
  },
  {
   "cell_type": "markdown",
   "metadata": {
    "slideshow": {
     "slide_type": "subslide"
    },
    "tags": []
   },
   "source": [
    "### 1. Functions\n",
    "Write a function ``check_palindrome`` that takes a string as argument and returns ``True`` if the string is a palindrome, else ``False``."
   ]
  },
  {
   "cell_type": "code",
   "execution_count": null,
   "metadata": {
    "deletable": false,
    "nbgrader": {
     "cell_type": "code",
     "checksum": "9e826a291ea4ac48c70a3169d6825932",
     "grade": true,
     "grade_id": "cell-af8d30adecfd27c3",
     "locked": false,
     "points": 0,
     "schema_version": 3,
     "solution": true,
     "task": false
    },
    "slideshow": {
     "slide_type": "skip"
    }
   },
   "outputs": [],
   "source": [
    "# YOUR CODE HERE\n",
    "raise NotImplementedError()"
   ]
  },
  {
   "cell_type": "markdown",
   "metadata": {
    "slideshow": {
     "slide_type": "fragment"
    },
    "tags": []
   },
   "source": [
    "### 2. List comprehensions\n",
    "List comprehensions can also contain conditions. Loop over the numbers from 2 to 21 (using ``range``) and store only numbers that are multiples of 3 (using ``%``) to the variable ``multiples3``. If unsure, use the Internet to find out about the correct syntax."
   ]
  },
  {
   "cell_type": "code",
   "execution_count": null,
   "metadata": {
    "deletable": false,
    "nbgrader": {
     "cell_type": "code",
     "checksum": "9f9f11dfc9fb2cbd3a721d9e47d82726",
     "grade": true,
     "grade_id": "cell-46d02438aa4b53ff",
     "locked": false,
     "points": 0,
     "schema_version": 3,
     "solution": true,
     "task": false
    },
    "slideshow": {
     "slide_type": "skip"
    }
   },
   "outputs": [],
   "source": [
    "# YOUR CODE HERE\n",
    "raise NotImplementedError()"
   ]
  },
  {
   "cell_type": "markdown",
   "metadata": {
    "slideshow": {
     "slide_type": "fragment"
    },
    "tags": []
   },
   "source": [
    "### 3. Write a class ``Rocket``. \n",
    "The ``__init__`` function (without parameters) should set the class variables ``x``, ``y`` and ``z`` to zero. Add a method ``move_up`` that increments the ``z`` value by ``1``.\n",
    "\n",
    "Then, create a fleet of 3 rockets and store them in the list ``space_rockets``. Move the first rocket up and then iterate over the list to print there altitudes."
   ]
  },
  {
   "cell_type": "code",
   "execution_count": null,
   "metadata": {
    "deletable": false,
    "nbgrader": {
     "cell_type": "code",
     "checksum": "c54bf91b745914c61c26b40b07b98c37",
     "grade": true,
     "grade_id": "cell-cf22d448d759ce1d",
     "locked": false,
     "points": 0,
     "schema_version": 3,
     "solution": true,
     "task": false
    },
    "slideshow": {
     "slide_type": "skip"
    }
   },
   "outputs": [],
   "source": [
    "# YOUR CODE HERE\n",
    "raise NotImplementedError()"
   ]
  },
  {
   "cell_type": "markdown",
   "metadata": {
    "slideshow": {
     "slide_type": "fragment"
    },
    "tags": []
   },
   "source": [
    "### 4. Build an exception statement\n",
    "The following block will fail. Correct the block, using an exception, that this will not fail, print a warning that nothing was read, and set a default content."
   ]
  },
  {
   "cell_type": "code",
   "execution_count": null,
   "metadata": {
    "deletable": false,
    "nbgrader": {
     "cell_type": "code",
     "checksum": "334b2be4486b2ded6e5a382ecee042c6",
     "grade": true,
     "grade_id": "cell-c6a94c768863d3cb",
     "locked": false,
     "points": 0,
     "schema_version": 3,
     "solution": true,
     "task": false
    },
    "slideshow": {
     "slide_type": "skip"
    },
    "tags": []
   },
   "outputs": [],
   "source": [
    "file_that_does_not_exist = \"non_existent_file.id\"\n",
    "\n",
    "with open(file_that_does_not_exist, 'r') as file:\n",
    "    content = file.read()\n",
    "    print(content)\n",
    "\n",
    "# YOUR CODE HERE\n",
    "raise NotImplementedError()"
   ]
  },
  {
   "cell_type": "markdown",
   "metadata": {
    "slideshow": {
     "slide_type": "slide"
    }
   },
   "source": [
    "# Inspriation/Further Reading\n",
    "- [learnpython](https://www.learnpython.org/)\n",
    "- [List Slicing](https://railsware.com/blog/python-for-machine-learning-indexing-and-slicing-for-lists-tuples-strings-and-other-sequential-types/)\n",
    "- [f-strings](https://realpython.com/python-f-strings/)\n",
    "- [CS41](https://stanfordpython.com/)\n",
    "- [Learn X in Y Minutes](https://learnxinyminutes.com/docs/python3/)\n",
    "\n",
    "- [learnpython](https://www.learnpython.org/)\n",
    "- [Classes](https://www.w3schools.com/python/python_classes.asp)\n",
    "- [Default arguments](https://www.geeksforgeeks.org/default-arguments-in-python/)\n",
    "- [Dictionaries](https://realpython.com/python-dicts/)\n",
    "- [Sets](https://realpython.com/python-sets/)"
   ]
  }
 ],
 "metadata": {
  "kernelspec": {
   "display_name": "Python 3 (ipykernel)",
   "language": "python",
   "name": "python3"
  },
  "language_info": {
   "codemirror_mode": {
    "name": "ipython",
    "version": 3
   },
   "file_extension": ".py",
   "mimetype": "text/x-python",
   "name": "python",
   "nbconvert_exporter": "python",
   "pygments_lexer": "ipython3",
   "version": "3.10.12"
  },
  "rise": {
   "theme": "serif"
  }
 },
 "nbformat": 4,
 "nbformat_minor": 4
}
