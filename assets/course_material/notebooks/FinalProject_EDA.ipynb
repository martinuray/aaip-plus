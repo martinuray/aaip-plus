{
 "cells": [
  {
   "cell_type": "markdown",
   "metadata": {
    "slideshow": {
     "slide_type": "slide"
    },
    "tags": []
   },
   "source": [
    "# Final Project - EDA and Utilities\n",
    "![Olympic Rings](https://idrottsforum.org/wp-content/uploads/2019/02/winter-olympics.jpg)\n",
    "\n",
    "First, let's install some dependencies, if not already installed."
   ]
  },
  {
   "cell_type": "code",
   "execution_count": null,
   "metadata": {
    "slideshow": {
     "slide_type": "skip"
    }
   },
   "outputs": [],
   "source": [
    "import pip\n",
    "!pip install pandas matplotlib seaborn"
   ]
  },
  {
   "cell_type": "code",
   "execution_count": null,
   "metadata": {
    "slideshow": {
     "slide_type": "skip"
    }
   },
   "outputs": [],
   "source": [
    "import matplotlib.pyplot as plt\n",
    "import numpy as np\n",
    "import pandas as pd\n",
    "import seaborn as sns\n",
    "%matplotlib inline"
   ]
  },
  {
   "cell_type": "markdown",
   "metadata": {
    "slideshow": {
     "slide_type": "subslide"
    },
    "tags": []
   },
   "source": [
    "## Dataset EDA\n",
    "### Read the dataset\n",
    "Let's read the dataset and have a look at the first few features."
   ]
  },
  {
   "cell_type": "code",
   "execution_count": null,
   "metadata": {
    "slideshow": {
     "slide_type": "fragment"
    }
   },
   "outputs": [],
   "source": [
    "athletes = pd.read_csv('https://raw.githubusercontent.com/martinuray/aaip-plus/main/assets/course_material/datasets/athlete_events.csv')\n",
    "athletes.head()"
   ]
  },
  {
   "cell_type": "markdown",
   "metadata": {
    "tags": []
   },
   "source": [
    "### Quiz Questions\n",
    "\n",
    "These are some questions, that may give you an intuition on how to explore the dataset. This is not something that is going to be assesed and is just for you! This will not be checked!\n",
    "\n",
    "In the next section you will find some test, where you can test your results against (but you don't have to). For this, store the result into the stated variables.\n",
    "\n",
    "1. How many athlete/event combinations are in the dataset (number of rows)? Store the number to the `num_aec` variable."
   ]
  },
  {
   "cell_type": "code",
   "execution_count": null,
   "metadata": {
    "deletable": false,
    "nbgrader": {
     "cell_type": "code",
     "checksum": "2b6419a8393f637ab9c5ec694c3ff986",
     "grade": true,
     "grade_id": "cell-cb01ac10c761bf46",
     "locked": false,
     "points": 0,
     "schema_version": 3,
     "solution": true,
     "task": false
    },
    "tags": []
   },
   "outputs": [],
   "source": [
    "# YOUR CODE HERE\n",
    "raise NotImplementedError()"
   ]
  },
  {
   "cell_type": "markdown",
   "metadata": {},
   "source": [
    "2. How many countries are in the dataset? Store the number to the `num_noc` variable."
   ]
  },
  {
   "cell_type": "code",
   "execution_count": null,
   "metadata": {
    "deletable": false,
    "nbgrader": {
     "cell_type": "code",
     "checksum": "e89d081a700a1fbddc7157462b78481e",
     "grade": true,
     "grade_id": "cell-ae327a9c86b0c51f",
     "locked": false,
     "points": 0,
     "schema_version": 3,
     "solution": true,
     "task": false
    },
    "tags": []
   },
   "outputs": [],
   "source": [
    "# YOUR CODE HERE\n",
    "raise NotImplementedError()"
   ]
  },
  {
   "cell_type": "markdown",
   "metadata": {},
   "source": [
    "3. How many different events are in the dataset? Store the number to the `num_events` variable."
   ]
  },
  {
   "cell_type": "code",
   "execution_count": null,
   "metadata": {
    "deletable": false,
    "nbgrader": {
     "cell_type": "code",
     "checksum": "cf39e71a1a696cd83ffc36b111b7f2da",
     "grade": true,
     "grade_id": "cell-ec9b2c89d3c70753",
     "locked": false,
     "points": 0,
     "schema_version": 3,
     "solution": true,
     "task": false
    },
    "tags": []
   },
   "outputs": [],
   "source": [
    "# YOUR CODE HERE\n",
    "raise NotImplementedError()"
   ]
  },
  {
   "cell_type": "markdown",
   "metadata": {},
   "source": [
    "4. How many different sport types are in the dataset? Store the number to the `num_sports` variable."
   ]
  },
  {
   "cell_type": "code",
   "execution_count": null,
   "metadata": {
    "deletable": false,
    "nbgrader": {
     "cell_type": "code",
     "checksum": "598853daf2ddb23c39ed932377731600",
     "grade": true,
     "grade_id": "cell-3403c7bc50b5f666",
     "locked": false,
     "points": 0,
     "schema_version": 3,
     "solution": true,
     "task": false
    },
    "tags": []
   },
   "outputs": [],
   "source": [
    "# YOUR CODE HERE\n",
    "raise NotImplementedError()"
   ]
  },
  {
   "cell_type": "markdown",
   "metadata": {},
   "source": [
    "5. How many female athletes are in the dataset? Store the number to the `num_female_athletes` variable."
   ]
  },
  {
   "cell_type": "code",
   "execution_count": null,
   "metadata": {
    "deletable": false,
    "nbgrader": {
     "cell_type": "code",
     "checksum": "b938e7e1767103debafe370aff3a40fb",
     "grade": true,
     "grade_id": "cell-a638a05a28f21c64",
     "locked": false,
     "points": 0,
     "schema_version": 3,
     "solution": true,
     "task": false
    },
    "tags": []
   },
   "outputs": [],
   "source": [
    "# YOUR CODE HERE\n",
    "raise NotImplementedError()"
   ]
  },
  {
   "cell_type": "markdown",
   "metadata": {},
   "source": [
    "6. How many hosting cities are in the dataset? Store the number to the `num_hosts` variable."
   ]
  },
  {
   "cell_type": "code",
   "execution_count": null,
   "metadata": {
    "deletable": false,
    "nbgrader": {
     "cell_type": "code",
     "checksum": "8d773734227140af45ab32b8d0a5f9de",
     "grade": true,
     "grade_id": "cell-987b976d6965ee04",
     "locked": false,
     "points": 0,
     "schema_version": 3,
     "solution": true,
     "task": false
    },
    "tags": []
   },
   "outputs": [],
   "source": [
    "# YOUR CODE HERE\n",
    "raise NotImplementedError()"
   ]
  },
  {
   "cell_type": "markdown",
   "metadata": {},
   "source": [
    "7. How many individual athletes are in the dataset? Store the number to the `num_athletes` variable."
   ]
  },
  {
   "cell_type": "code",
   "execution_count": null,
   "metadata": {
    "deletable": false,
    "nbgrader": {
     "cell_type": "code",
     "checksum": "431a1aa632784a396e889260004422d6",
     "grade": true,
     "grade_id": "cell-1dd61e22c7635ac2",
     "locked": false,
     "points": 0,
     "schema_version": 3,
     "solution": true,
     "task": false
    },
    "tags": []
   },
   "outputs": [],
   "source": [
    "# YOUR CODE HERE\n",
    "raise NotImplementedError()"
   ]
  },
  {
   "cell_type": "markdown",
   "metadata": {},
   "source": [
    "8. How many male athletes are in the dataset? Store the number to the `num_male_athletes` variable."
   ]
  },
  {
   "cell_type": "code",
   "execution_count": null,
   "metadata": {
    "deletable": false,
    "nbgrader": {
     "cell_type": "code",
     "checksum": "6ccb4cb39c658b450e80dbf269ba0e40",
     "grade": true,
     "grade_id": "cell-2fd76322fdb0b4c1",
     "locked": false,
     "points": 0,
     "schema_version": 3,
     "solution": true,
     "task": false
    },
    "tags": []
   },
   "outputs": [],
   "source": [
    "# YOUR CODE HERE\n",
    "raise NotImplementedError()"
   ]
  },
  {
   "cell_type": "markdown",
   "metadata": {},
   "source": [
    "9. How many unique medalists are in the dataset? Store the number to the `num_unique_medalists` variable."
   ]
  },
  {
   "cell_type": "code",
   "execution_count": null,
   "metadata": {
    "deletable": false,
    "nbgrader": {
     "cell_type": "code",
     "checksum": "33a300d542f803f886aa5ccdc9628a82",
     "grade": true,
     "grade_id": "cell-69c75c098163a0fe",
     "locked": false,
     "points": 0,
     "schema_version": 3,
     "solution": true,
     "task": false
    },
    "tags": []
   },
   "outputs": [],
   "source": [
    "# YOUR CODE HERE\n",
    "raise NotImplementedError()"
   ]
  },
  {
   "cell_type": "markdown",
   "metadata": {},
   "source": [
    "10. Where did the first modern Olympic Games take place? Store the city name to the `first_olympic_host` variable."
   ]
  },
  {
   "cell_type": "code",
   "execution_count": null,
   "metadata": {
    "deletable": false,
    "nbgrader": {
     "cell_type": "code",
     "checksum": "c16f16496d5f622a50afaff6390723bd",
     "grade": true,
     "grade_id": "cell-2c24152d8d77fa89",
     "locked": false,
     "points": 0,
     "schema_version": 3,
     "solution": true,
     "task": false
    },
    "tags": []
   },
   "outputs": [],
   "source": [
    "# YOUR CODE HERE\n",
    "raise NotImplementedError()"
   ]
  },
  {
   "cell_type": "markdown",
   "metadata": {},
   "source": [
    "11. Who is the athlete to compete in the most events? Store the name to the `most_freq_athlete` variable."
   ]
  },
  {
   "cell_type": "code",
   "execution_count": null,
   "metadata": {
    "deletable": false,
    "nbgrader": {
     "cell_type": "code",
     "checksum": "1842aa6d3e6f11d55a9d6adc2a260c3f",
     "grade": true,
     "grade_id": "cell-f659d52c6c3f13f6",
     "locked": false,
     "points": 0,
     "schema_version": 3,
     "solution": true,
     "task": false
    },
    "tags": []
   },
   "outputs": [],
   "source": [
    "# YOUR CODE HERE\n",
    "raise NotImplementedError()"
   ]
  },
  {
   "cell_type": "markdown",
   "metadata": {},
   "source": [
    "12. Who is the most successful athlete (most medasl won)? Store the name to the `most_medal_athlete` variable."
   ]
  },
  {
   "cell_type": "code",
   "execution_count": null,
   "metadata": {
    "deletable": false,
    "nbgrader": {
     "cell_type": "code",
     "checksum": "2dbcfa36246a21d6e66aacdf78ce8eb0",
     "grade": true,
     "grade_id": "cell-1aceb1b935d3414e",
     "locked": false,
     "points": 0,
     "schema_version": 3,
     "solution": true,
     "task": false
    },
    "tags": []
   },
   "outputs": [],
   "source": [
    "# YOUR CODE HERE\n",
    "raise NotImplementedError()"
   ]
  },
  {
   "cell_type": "markdown",
   "metadata": {},
   "source": [
    "### Quiz - Check Results\n",
    "If you have everything correct, this runs without any errors."
   ]
  },
  {
   "cell_type": "code",
   "execution_count": null,
   "metadata": {},
   "outputs": [],
   "source": [
    "assert num_aec == 271116\n",
    "assert num_noc == 230\n",
    "assert num_events == 765\n",
    "assert num_sports == 66\n",
    "assert num_female_athletes == 33981\n",
    "assert num_hosts == 42\n",
    "assert num_athlets == 135571\n",
    "assert num_male_athletes == 101590\n",
    "assert num_unique_medalists == 28251\n",
    "assert first_olympic_host == \"Athina\"\n",
    "assert most_freq_athlete == \"Robert Tait McKenzie\"\n",
    "assert most_medal_athlete == \"Michael Fred Phelps, II\""
   ]
  },
  {
   "cell_type": "markdown",
   "metadata": {
    "slideshow": {
     "slide_type": "subslide"
    },
    "tags": []
   },
   "source": [
    "## Maps - Primer\n",
    "This is not mandatory. There will be a lab on maps anyway.\n",
    "\n",
    "\n",
    "### \"Reverse-locate\" latitude and longitude\n",
    "\n",
    "We are using GeoPandas to display maps. See [these instructions](https://geopandas.org/install.html) on how to install GeoPandas."
   ]
  },
  {
   "cell_type": "code",
   "execution_count": null,
   "metadata": {},
   "outputs": [],
   "source": [
    "!pip install geopandas geopy descartes"
   ]
  },
  {
   "cell_type": "code",
   "execution_count": null,
   "metadata": {},
   "outputs": [],
   "source": [
    "import geopandas as gpd\n",
    "from  geopy.geocoders import Nominatim"
   ]
  },
  {
   "cell_type": "code",
   "execution_count": null,
   "metadata": {
    "slideshow": {
     "slide_type": "fragment"
    }
   },
   "outputs": [],
   "source": [
    "geolocator = Nominatim(user_agent='TestForOlympic', timeout=100)  # set agent name according to your project\n",
    "\n",
    "host_cities = pd.DataFrame(\n",
    "    {\n",
    "        'City': athletes['City'].unique(),\n",
    "        'latitude': np.nan,\n",
    "        'longitude': np.nan\n",
    "    }\n",
    ")\n",
    "\n",
    "for idx, c in host_cities.iterrows():\n",
    "    loc = geolocator.geocode(c['City'], timeout=100)  # time out to prevent being denied access\n",
    "    host_cities.at[idx, 'latitude'] = loc.latitude\n",
    "    host_cities.at[idx, 'longitude'] = loc.longitude"
   ]
  },
  {
   "cell_type": "markdown",
   "metadata": {
    "tags": []
   },
   "source": [
    "Adding the captured latitudinal and longitudinal data to the data frame."
   ]
  },
  {
   "cell_type": "code",
   "execution_count": null,
   "metadata": {
    "slideshow": {
     "slide_type": "subslide"
    }
   },
   "outputs": [],
   "source": [
    "host_cities.head()"
   ]
  },
  {
   "cell_type": "markdown",
   "metadata": {
    "slideshow": {
     "slide_type": "subslide"
    },
    "tags": []
   },
   "source": [
    "### Define geometry points\n",
    "Let's do that by means of a GeoDataFrame. Here we use the input from the DataFrame fille previously."
   ]
  },
  {
   "cell_type": "code",
   "execution_count": null,
   "metadata": {
    "slideshow": {
     "slide_type": "fragment"
    }
   },
   "outputs": [],
   "source": [
    "host_cities = gpd.GeoDataFrame(host_cities, geometry=gpd.points_from_xy(host_cities.longitude, host_cities.latitude))\n",
    "host_cities.head()"
   ]
  },
  {
   "cell_type": "markdown",
   "metadata": {
    "slideshow": {
     "slide_type": "subslide"
    },
    "tags": []
   },
   "source": [
    "### Draw and save map\n",
    "With this piece of code you can create your own map. For more on maps, stay tuned to the lab on maps."
   ]
  },
  {
   "cell_type": "code",
   "execution_count": null,
   "metadata": {
    "slideshow": {
     "slide_type": "fragment"
    }
   },
   "outputs": [],
   "source": [
    "world = gpd.read_file(gpd.datasets.get_path('naturalearth_lowres'))\n",
    "base = world.plot(color='lightgrey', edgecolor='black', figsize=(20,10))\n",
    "host_cities.plot(ax=base, marker='*', color='red', markersize=75)\n",
    "\n",
    "# annotation - but it is not useful for this example\n",
    "#for x, y, label in zip(host_cities.geometry.x, host_cities.geometry.y, host_cities.City):\n",
    "#    base.annotate(label, xy=(x, y), xytext=(3, 3), textcoords=\"offset points\")\n",
    "\n",
    "plt.title('Olympic Game Hosts Since 1896', fontsize=20)\n",
    "#plt.savefig('olympic_hosts.png', dpi=100)  # increase dpi for poster version\n",
    "plt.show()"
   ]
  }
 ],
 "metadata": {
  "kernelspec": {
   "display_name": "Python 3 (ipykernel)",
   "language": "python",
   "name": "python3"
  },
  "language_info": {
   "codemirror_mode": {
    "name": "ipython",
    "version": 3
   },
   "file_extension": ".py",
   "mimetype": "text/x-python",
   "name": "python",
   "nbconvert_exporter": "python",
   "pygments_lexer": "ipython3",
   "version": "3.10.12"
  }
 },
 "nbformat": 4,
 "nbformat_minor": 4
}
