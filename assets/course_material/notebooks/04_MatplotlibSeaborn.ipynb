{
 "cells": [
  {
   "cell_type": "markdown",
   "metadata": {
    "deletable": false,
    "editable": false,
    "nbgrader": {
     "cell_type": "markdown",
     "checksum": "822595b517402115b1ffea390421a876",
     "grade": false,
     "grade_id": "cell-d45ef257442d3d68",
     "locked": true,
     "schema_version": 3,
     "solution": false,
     "task": false
    },
    "slideshow": {
     "slide_type": "slide"
    }
   },
   "source": [
    "# matplotlib, seaborn, plotly"
   ]
  },
  {
   "cell_type": "code",
   "execution_count": null,
   "metadata": {
    "slideshow": {
     "slide_type": "skip"
    }
   },
   "outputs": [],
   "source": [
    "import pip\n",
    "!pip install numpy matplotlib seaborn plotly"
   ]
  },
  {
   "cell_type": "markdown",
   "metadata": {
    "deletable": false,
    "editable": false,
    "nbgrader": {
     "cell_type": "markdown",
     "checksum": "1177d142b55081cf95866743191e5f00",
     "grade": false,
     "grade_id": "cell-c8bdf72605463fe8",
     "locked": true,
     "schema_version": 3,
     "solution": false,
     "task": false
    },
    "slideshow": {
     "slide_type": "slide"
    }
   },
   "source": [
    "## Comparison\n",
    "**matplotlib** is the standard Python plotting library. **seaborn** is based on matplotlib and provides a more high-level interface, different styles, and interfaces nicely with pandas dataframes.\n",
    "\n",
    "Take a look at how the two libraries render a standard histogram:"
   ]
  },
  {
   "cell_type": "code",
   "execution_count": null,
   "metadata": {
    "slideshow": {
     "slide_type": "fragment"
    }
   },
   "outputs": [],
   "source": [
    "import numpy as np\n",
    "x = np.random.randn(100)\n",
    "x[:10]"
   ]
  },
  {
   "cell_type": "markdown",
   "metadata": {
    "deletable": false,
    "editable": false,
    "nbgrader": {
     "cell_type": "markdown",
     "checksum": "cf205705adb5a5a0ae365a2a3ea8eb3b",
     "grade": false,
     "grade_id": "cell-fb6dd675b22e9e32",
     "locked": true,
     "schema_version": 3,
     "solution": false,
     "task": false
    },
    "slideshow": {
     "slide_type": "subslide"
    }
   },
   "source": [
    "### Matplotlib\n",
    "![Matplotlib logo](https://raw.githubusercontent.com/matplotlib/matplotlib/main/doc/_static/logo2.svg)"
   ]
  },
  {
   "cell_type": "code",
   "execution_count": null,
   "metadata": {
    "slideshow": {
     "slide_type": "fragment"
    }
   },
   "outputs": [],
   "source": [
    "import matplotlib.pyplot as plt\n",
    "plt.hist(x)\n",
    "plt.show()"
   ]
  },
  {
   "cell_type": "markdown",
   "metadata": {
    "deletable": false,
    "editable": false,
    "nbgrader": {
     "cell_type": "markdown",
     "checksum": "f6693ea752dd999e996adb54086a9691",
     "grade": false,
     "grade_id": "cell-5b2817cc812b3694",
     "locked": true,
     "schema_version": 3,
     "solution": false,
     "task": false
    },
    "slideshow": {
     "slide_type": "subslide"
    }
   },
   "source": [
    "### Seaborn\n",
    "![Seaborn logo](https://seaborn.pydata.org/_static/logo-wide-lightbg.svg)"
   ]
  },
  {
   "cell_type": "code",
   "execution_count": null,
   "metadata": {
    "slideshow": {
     "slide_type": "fragment"
    }
   },
   "outputs": [],
   "source": [
    "import seaborn as sns\n",
    "sns.histplot(x)\n",
    "plt.show()"
   ]
  },
  {
   "cell_type": "markdown",
   "metadata": {
    "deletable": false,
    "editable": false,
    "nbgrader": {
     "cell_type": "markdown",
     "checksum": "eb1c79cf69a35edfdada5cc674027f6a",
     "grade": false,
     "grade_id": "cell-7b7b7cedf8d74b44",
     "locked": true,
     "schema_version": 3,
     "solution": false,
     "task": false
    },
    "slideshow": {
     "slide_type": "slide"
    }
   },
   "source": [
    "## Visualization 101"
   ]
  },
  {
   "cell_type": "markdown",
   "metadata": {
    "deletable": false,
    "editable": false,
    "nbgrader": {
     "cell_type": "markdown",
     "checksum": "9227f3aa85f8dbfd22fe4c847327c00c",
     "grade": false,
     "grade_id": "cell-6f62dec39991426f",
     "locked": true,
     "schema_version": 3,
     "solution": false,
     "task": false
    },
    "slideshow": {
     "slide_type": "subslide"
    }
   },
   "source": [
    "### Data Types\n",
    "Choosing the right plot type also depends on the type of data to visualize."
   ]
  },
  {
   "cell_type": "markdown",
   "metadata": {
    "deletable": false,
    "editable": false,
    "nbgrader": {
     "cell_type": "markdown",
     "checksum": "f39706c6d789e77e5152afb9ef61ec67",
     "grade": false,
     "grade_id": "cell-6dc02d868c2b5bbc",
     "locked": true,
     "schema_version": 3,
     "solution": false,
     "task": false
    },
    "slideshow": {
     "slide_type": "subslide"
    }
   },
   "source": [
    "#### Quantitative Data\n",
    "- **Continuous**: time, height, weight, temperature, speed, volume, price, power consumption $\\rightarrow$ **measureable**\n",
    "- **Discrete**: units sold, shoe size, quantities (e.g. number of languages spoken/emails received/workers/orders) $\\rightarrow$ **countable**"
   ]
  },
  {
   "cell_type": "markdown",
   "metadata": {
    "deletable": false,
    "editable": false,
    "nbgrader": {
     "cell_type": "markdown",
     "checksum": "66b9a23c55564db5f7e93b1a9e0c6106",
     "grade": false,
     "grade_id": "cell-9e6cfb8ee9bdc400",
     "locked": true,
     "schema_version": 3,
     "solution": false,
     "task": false
    },
    "slideshow": {
     "slide_type": "subslide"
    }
   },
   "source": [
    "#### Qualitative Data\n",
    "- **Categorical/Nominal**: kind of products (e.g. types of beers), hair color, country, languages, dog breed $\\rightarrow$ cannot be arranged in any particular order\n",
    "- **Ordinal**: rankings, school grades, income categories, pain scale $\\rightarrow$ can be arranged in order"
   ]
  },
  {
   "cell_type": "markdown",
   "metadata": {
    "deletable": false,
    "editable": false,
    "nbgrader": {
     "cell_type": "markdown",
     "checksum": "a92b2ba43659b0f001b375f4e7691065",
     "grade": false,
     "grade_id": "cell-d5167e0efcd5de85",
     "locked": true,
     "schema_version": 3,
     "solution": false,
     "task": false
    },
    "slideshow": {
     "slide_type": "subslide"
    }
   },
   "source": [
    "![Qualitative vs. Quantitative Data](https://i2.wp.com/intellspot.com/wp-content/uploads/2018/03/qualitative-and-quantitative-data-a-short-infographic.png?resize=680%2C363)"
   ]
  },
  {
   "cell_type": "markdown",
   "metadata": {
    "deletable": false,
    "editable": false,
    "nbgrader": {
     "cell_type": "markdown",
     "checksum": "5867b6ae604da186b998776e3e9b7a82",
     "grade": false,
     "grade_id": "cell-80da4a8f996b3c78",
     "locked": true,
     "schema_version": 3,
     "solution": false,
     "task": false
    },
    "slideshow": {
     "slide_type": "subslide"
    }
   },
   "source": [
    "### Visual Encodings\n",
    "How can we map from data to display elements?"
   ]
  },
  {
   "cell_type": "markdown",
   "metadata": {
    "deletable": false,
    "editable": false,
    "nbgrader": {
     "cell_type": "markdown",
     "checksum": "23988446f2c6ae55d13511dbda4f257c",
     "grade": false,
     "grade_id": "cell-ebdd4381bd7385a1",
     "locked": true,
     "schema_version": 3,
     "solution": false,
     "task": false
    },
    "slideshow": {
     "slide_type": "subslide"
    }
   },
   "source": [
    "#### Position\n",
    "The intersection of a point on the x- and the y-axis indicates a data point's **position**. It's the most common visual encoding but can only encode two variables (at least three). "
   ]
  },
  {
   "cell_type": "markdown",
   "metadata": {
    "deletable": false,
    "editable": false,
    "nbgrader": {
     "cell_type": "markdown",
     "checksum": "a1cda7ab619f25b178b50870a0000e6e",
     "grade": false,
     "grade_id": "cell-6da68ad19bf08309",
     "locked": true,
     "schema_version": 3,
     "solution": false,
     "task": false
    },
    "slideshow": {
     "slide_type": "subslide"
    }
   },
   "source": [
    "#### Retinal Variables\n",
    "- Size\n",
    "- Color (Hue, Saturation)\n",
    "- Shape\n",
    "- Texture\n",
    "- Orientation\n",
    "- Line (Width, Type)"
   ]
  },
  {
   "cell_type": "markdown",
   "metadata": {
    "deletable": false,
    "editable": false,
    "nbgrader": {
     "cell_type": "markdown",
     "checksum": "7b702d9c65738792fd68ade66d2e6b9a",
     "grade": false,
     "grade_id": "cell-5923e8180b100df6",
     "locked": true,
     "schema_version": 3,
     "solution": false,
     "task": false
    },
    "slideshow": {
     "slide_type": "subslide"
    }
   },
   "source": [
    "![Visual Encodings](https://images.squarespace-cdn.com/content/v1/5879aba73a0411c5027d77c9/1529320974623-SMYWQDSSE8VDAHOIK85R/ke17ZwdGBToddI8pDm48kH23KVWagbNOYpajbj_MQLNZw-zPPgdn4jUwVcJE1ZvWQUxwkmyExglNqGp0IvTJZamWLI2zvYWH8K3-s_4yszcp2ryTI0HqTOaaUohrI8PIJtg7yny0RBSV5PxpX1XPrwAROGqRUCBAuccPtaePpQsKMshLAGzx4R3EDFOm1kBS/image-asset.jpeg?format=1000w)"
   ]
  },
  {
   "cell_type": "markdown",
   "metadata": {
    "deletable": false,
    "editable": false,
    "nbgrader": {
     "cell_type": "markdown",
     "checksum": "2350b9abe3d80c093f919a83ce43bf11",
     "grade": false,
     "grade_id": "cell-86fd9b809b916821",
     "locked": true,
     "schema_version": 3,
     "solution": false,
     "task": false
    },
    "slideshow": {
     "slide_type": "subslide"
    }
   },
   "source": [
    "![Visual Encodings](https://clauswilke.com/dataviz/aesthetic_mapping_files/figure-html/common-aesthetics-1.png)"
   ]
  },
  {
   "cell_type": "markdown",
   "metadata": {
    "deletable": false,
    "editable": false,
    "nbgrader": {
     "cell_type": "markdown",
     "checksum": "3e4bf5ecb9a44abe927e9936d2daf7ce",
     "grade": false,
     "grade_id": "cell-b223f870a55db904",
     "locked": true,
     "schema_version": 3,
     "solution": false,
     "task": false
    },
    "slideshow": {
     "slide_type": "slide"
    }
   },
   "source": [
    "## Parts of a Figure\n",
    "Most of the upcoming terminology might be straightforward. Note the difference between ``Figure`` and ``Axes``. The ``Figure`` is the final image and contains one or more ``Axes``. An ``Axes`` is one actual plot. ``Axis`` means something different and refers to the dimension in the plot and defines the limits, ranges, and ticks.\n",
    "\n",
    "![Anatomy of a Figure](https://matplotlib.org/_images/anatomy1.png)\n",
    "\n",
    "Source: https://matplotlib.org/stable/gallery/showcase/anatomy.html"
   ]
  },
  {
   "cell_type": "markdown",
   "metadata": {
    "deletable": false,
    "editable": false,
    "nbgrader": {
     "cell_type": "markdown",
     "checksum": "096fd098d6012666f301af8ba0e0e3f0",
     "grade": false,
     "grade_id": "cell-1a8fb8f67bce96dd",
     "locked": true,
     "schema_version": 3,
     "solution": false,
     "task": false
    },
    "slideshow": {
     "slide_type": "slide"
    }
   },
   "source": [
    "## An Example\n",
    "\n",
    "![Car Types](https://www.smartmotorist.com/wp-content/uploads/2019/01/types-of-cars-e1560223698227.png)"
   ]
  },
  {
   "cell_type": "markdown",
   "metadata": {
    "deletable": false,
    "editable": false,
    "nbgrader": {
     "cell_type": "markdown",
     "checksum": "a723317198c364da1e6b22e89c24c032",
     "grade": false,
     "grade_id": "cell-3df47a4527e36a8d",
     "locked": true,
     "schema_version": 3,
     "solution": false,
     "task": false
    },
    "slideshow": {
     "slide_type": "subslide"
    }
   },
   "source": [
    "### Importing Libraries and Data Loading"
   ]
  },
  {
   "cell_type": "code",
   "execution_count": null,
   "metadata": {
    "slideshow": {
     "slide_type": "fragment"
    }
   },
   "outputs": [],
   "source": [
    "import pandas as pd\n",
    "import matplotlib.pyplot as plt\n",
    "# use matplotlib in jupyter notebook\n",
    "%matplotlib inline  \n",
    "import seaborn as sns\n",
    "\n",
    "df = pd.read_csv('https://raw.githubusercontent.com/ADSLab-Salzburg/DataAnalysiswithPython/main/data/Automobile_data.csv', index_col=0)\n",
    "df.head()"
   ]
  },
  {
   "cell_type": "markdown",
   "metadata": {
    "deletable": false,
    "editable": false,
    "nbgrader": {
     "cell_type": "markdown",
     "checksum": "53596ad632f09372c57d295a1be0b087",
     "grade": false,
     "grade_id": "cell-8d760b22d920ae83",
     "locked": true,
     "schema_version": 3,
     "solution": false,
     "task": false
    },
    "slideshow": {
     "slide_type": "fragment"
    }
   },
   "source": [
    "### Data Types\n",
    "Which of the columns contain qualitative (categorical, ordinal) or quantitative (continuous or discrete) data?"
   ]
  },
  {
   "cell_type": "markdown",
   "metadata": {
    "deletable": false,
    "editable": false,
    "nbgrader": {
     "cell_type": "markdown",
     "checksum": "da6090159e8c36bc04d97bafad85cedf",
     "grade": false,
     "grade_id": "cell-4e2df9adfb4fcc4c",
     "locked": true,
     "schema_version": 3,
     "solution": false,
     "task": false
    },
    "slideshow": {
     "slide_type": "subslide"
    }
   },
   "source": [
    "### Seaborn's Plotting Functions\n",
    "There are two ways to create a plot in seaborn:\n",
    "1. (recommended) Pass a ``DataFrame`` to the ``data`` argument, while passing column names to the axes arguments, ``x`` and ``y``.\n",
    "2. Directly pass in ``Series`` of data to the axes arguments.\n"
   ]
  },
  {
   "cell_type": "markdown",
   "metadata": {
    "deletable": false,
    "editable": false,
    "nbgrader": {
     "cell_type": "markdown",
     "checksum": "1971e7796cff2ddeb6271bc6745c92d2",
     "grade": false,
     "grade_id": "cell-7810e9b1b9cc98f9",
     "locked": true,
     "schema_version": 3,
     "solution": false,
     "task": false
    },
    "slideshow": {
     "slide_type": "subslide"
    }
   },
   "source": [
    "### Scatter Plot\n",
    "Seaborn provides a [``scatterplot()``](http://seaborn.pydata.org/generated/seaborn.scatterplot.html#seaborn.scatterplot) function."
   ]
  },
  {
   "cell_type": "code",
   "execution_count": null,
   "metadata": {
    "slideshow": {
     "slide_type": "fragment"
    }
   },
   "outputs": [],
   "source": [
    "sns.scatterplot(x='price', y='horsepower', data=df)\n",
    "plt.show()"
   ]
  },
  {
   "cell_type": "code",
   "execution_count": null,
   "metadata": {
    "slideshow": {
     "slide_type": "subslide"
    }
   },
   "outputs": [],
   "source": [
    "sns.scatterplot(x='price', y='horsepower', data=df,\n",
    "                hue='body-style')  # color by body style\n",
    "plt.show()"
   ]
  },
  {
   "cell_type": "code",
   "execution_count": null,
   "metadata": {
    "slideshow": {
     "slide_type": "subslide"
    }
   },
   "outputs": [],
   "source": [
    "sns.scatterplot(x='price', y='horsepower', data=df,\n",
    "                hue='body-style',\n",
    "                style='body-style')  # change marker style according to body style\n",
    "plt.show()"
   ]
  },
  {
   "cell_type": "markdown",
   "metadata": {
    "deletable": false,
    "editable": false,
    "nbgrader": {
     "cell_type": "markdown",
     "checksum": "21a7571c310e1d71e24be4b814ca868c",
     "grade": false,
     "grade_id": "cell-61185496d42902e9",
     "locked": true,
     "schema_version": 3,
     "solution": false,
     "task": false
    },
    "slideshow": {
     "slide_type": "subslide"
    }
   },
   "source": [
    "### Customization with Matplotlib\n",
    "seaborn is a high-level interface to matplotlib. Some low-level functionality is still handled in matplotlib only:"
   ]
  },
  {
   "cell_type": "markdown",
   "metadata": {
    "deletable": false,
    "editable": false,
    "nbgrader": {
     "cell_type": "markdown",
     "checksum": "b23effeee445d0757f03654e20eb8c94",
     "grade": false,
     "grade_id": "cell-67075179e692d23b",
     "locked": true,
     "schema_version": 3,
     "solution": false,
     "task": false
    },
    "slideshow": {
     "slide_type": "subslide"
    }
   },
   "source": [
    "#### Setting axis limits"
   ]
  },
  {
   "cell_type": "code",
   "execution_count": null,
   "metadata": {
    "slideshow": {
     "slide_type": "fragment"
    }
   },
   "outputs": [],
   "source": [
    "sns.scatterplot(x='price', y='horsepower', data=df,\n",
    "                hue='body-style', style='body-style')\n",
    "plt.xlim(0, 50000)\n",
    "plt.ylim(0, 300)\n",
    "plt.show()"
   ]
  },
  {
   "cell_type": "markdown",
   "metadata": {
    "deletable": false,
    "editable": false,
    "nbgrader": {
     "cell_type": "markdown",
     "checksum": "b2bd904563b08536a62089802002fced",
     "grade": false,
     "grade_id": "cell-1e3aa270fd69cdd3",
     "locked": true,
     "schema_version": 3,
     "solution": false,
     "task": false
    },
    "slideshow": {
     "slide_type": "subslide"
    }
   },
   "source": [
    "#### Defining a title"
   ]
  },
  {
   "cell_type": "code",
   "execution_count": null,
   "metadata": {
    "slideshow": {
     "slide_type": "fragment"
    }
   },
   "outputs": [],
   "source": [
    "sns.scatterplot(x='price', y='horsepower', data=df,\n",
    "                hue='body-style', style='body-style')\n",
    "plt.xlim(0, 50000)\n",
    "plt.ylim(0, 300)\n",
    "\n",
    "plt.title('Correlation of Horsepower and Price for Different Vehicle Types')\n",
    "\n",
    "plt.show()"
   ]
  },
  {
   "cell_type": "markdown",
   "metadata": {
    "deletable": false,
    "editable": false,
    "nbgrader": {
     "cell_type": "markdown",
     "checksum": "2c9fb11a4e5313b0eab79747efc5fbcd",
     "grade": false,
     "grade_id": "cell-aaec8bf624d03ed4",
     "locked": true,
     "schema_version": 3,
     "solution": false,
     "task": false
    },
    "slideshow": {
     "slide_type": "subslide"
    }
   },
   "source": [
    "#### Legend position"
   ]
  },
  {
   "cell_type": "code",
   "execution_count": null,
   "metadata": {
    "slideshow": {
     "slide_type": "fragment"
    }
   },
   "outputs": [],
   "source": [
    "sns.scatterplot(x='price', y='horsepower', data=df,\n",
    "                hue='body-style', style='body-style')\n",
    "plt.xlim(0, 50000)\n",
    "plt.ylim(0, 300)\n",
    "plt.title('Correlation of Horsepower and Price for Different Vehicle Types')\n",
    "\n",
    "plt.legend(loc='lower right')  # vs. 'best'\n",
    "\n",
    "plt.show()"
   ]
  },
  {
   "cell_type": "markdown",
   "metadata": {
    "deletable": false,
    "editable": false,
    "nbgrader": {
     "cell_type": "markdown",
     "checksum": "8a0001b53f7f58f4b5039f52a9ce3ab0",
     "grade": false,
     "grade_id": "cell-e8bd5db4ec515e41",
     "locked": true,
     "schema_version": 3,
     "solution": false,
     "task": false
    },
    "slideshow": {
     "slide_type": "subslide"
    }
   },
   "source": [
    "#### x-tick-Label rotation"
   ]
  },
  {
   "cell_type": "code",
   "execution_count": null,
   "metadata": {},
   "outputs": [],
   "source": [
    "sns.scatterplot(x='price', y='horsepower', data=df,\n",
    "                hue='body-style', style='body-style')\n",
    "plt.xlim(0, 50000)\n",
    "plt.ylim(0, 300)\n",
    "plt.title('Correlation of Horsepower and Price for Different Vehicle Types')\n",
    "plt.legend(loc='lower right')\n",
    "\n",
    "plt.xticks(rotation=45)  # rotate x-tick-labels by 45 degrees\n",
    "\n",
    "plt.show()"
   ]
  },
  {
   "cell_type": "markdown",
   "metadata": {
    "deletable": false,
    "editable": false,
    "nbgrader": {
     "cell_type": "markdown",
     "checksum": "a229b352edfe4665c86f520f0c2f6a7f",
     "grade": false,
     "grade_id": "cell-72b625415d06b508",
     "locked": true,
     "schema_version": 3,
     "solution": false,
     "task": false
    },
    "slideshow": {
     "slide_type": "subslide"
    }
   },
   "source": [
    "### Seaborn themes\n",
    "Another advantage of Seaborn is that it comes with decent style themes right out of the box. The default theme is called 'darkgrid'. We'll now use 'whitegrid' instead to plot the distribution of selected car companies' prices."
   ]
  },
  {
   "cell_type": "code",
   "execution_count": null,
   "metadata": {
    "slideshow": {
     "slide_type": "fragment"
    }
   },
   "outputs": [],
   "source": [
    "# Choose data\n",
    "df_company = df.loc[df['company'].str.contains(\"volkswagen|audi|jaguar|chevrolet|toyota|alfa-romero\"), :]\n",
    "\n",
    "# Set theme\n",
    "sns.set_style('whitegrid')\n",
    "\n",
    "# Boxplot\n",
    "sns.boxplot(x='company', y='price', data=df_company)\n",
    "plt.xticks(rotation=45)\n",
    "plt.title('Companies\\' Price Distribution')\n",
    "plt.show()"
   ]
  },
  {
   "cell_type": "markdown",
   "metadata": {
    "deletable": false,
    "editable": false,
    "nbgrader": {
     "cell_type": "markdown",
     "checksum": "d225d73f15a1996e1065a956462d48d4",
     "grade": false,
     "grade_id": "cell-693175c9a82b9991",
     "locked": true,
     "schema_version": 3,
     "solution": false,
     "task": false
    },
    "slideshow": {
     "slide_type": "subslide"
    }
   },
   "source": [
    "### Seaborn color palettes\n",
    "Different countries (and their car manufacturers) are historically aligned with typical colors. We can define color palettes on our own by creating an ordered list of hex values (the same order as the x-axis). We also change the plot type to ``violin`` as this type also displays the data distribution instead of only the summary statistics:\n"
   ]
  },
  {
   "cell_type": "code",
   "execution_count": null,
   "metadata": {
    "slideshow": {
     "slide_type": "fragment"
    }
   },
   "outputs": [],
   "source": [
    "# Define color palette\n",
    "car_colors = ['#FF0000',  # red for Italian cars\n",
    "              '#C0C0C0',  # silver for German cars\n",
    "              '#000099',  # imperial blue for American cars\n",
    "              '#005500',  # green for British cars\n",
    "              '#C0C0C0',\n",
    "              '#333333',  # black for Japanese cars (not too black as we still want to see some information)\n",
    "              '#C0C0C0']\n",
    "# Violin plot\n",
    "sns.violinplot(x='company', y='price', data=df_company, palette=car_colors, scale='count')\n",
    "plt.xticks(rotation=45)\n",
    "plt.title('Companies\\' Price Distribution')\n",
    "plt.show()"
   ]
  },
  {
   "cell_type": "markdown",
   "metadata": {
    "deletable": false,
    "editable": false,
    "nbgrader": {
     "cell_type": "markdown",
     "checksum": "a57fb9185fc88a2db517132bd20c3815",
     "grade": false,
     "grade_id": "cell-54d07827f505ae53",
     "locked": true,
     "schema_version": 3,
     "solution": false,
     "task": false
    },
    "slideshow": {
     "slide_type": "subslide"
    }
   },
   "source": [
    "As we can't see too much here, we change the plot type once again to ``swarmplot`` to see the individual data points:"
   ]
  },
  {
   "cell_type": "code",
   "execution_count": null,
   "metadata": {
    "slideshow": {
     "slide_type": "fragment"
    }
   },
   "outputs": [],
   "source": [
    "# Swarm plot\n",
    "sns.swarmplot(x='company', y='price', data=df_company, palette=car_colors)\n",
    "plt.xticks(rotation=45)\n",
    "plt.title('Companies\\' Price Distribution')\n",
    "plt.show()"
   ]
  },
  {
   "cell_type": "markdown",
   "metadata": {
    "deletable": false,
    "editable": false,
    "nbgrader": {
     "cell_type": "markdown",
     "checksum": "1aa6c4d116499cea7806142f7053cd03",
     "grade": false,
     "grade_id": "cell-9d67f151f2731bda",
     "locked": true,
     "schema_version": 3,
     "solution": false,
     "task": false
    },
    "slideshow": {
     "slide_type": "subslide"
    }
   },
   "source": [
    "### Combining Plots\n",
    "We can plot several plots in the same axes to overlay the information. "
   ]
  },
  {
   "cell_type": "code",
   "execution_count": null,
   "metadata": {
    "slideshow": {
     "slide_type": "subslide"
    }
   },
   "outputs": [],
   "source": [
    "# Optional: Set figure size with matplotlib\n",
    "plt.figure(figsize=(10,6))\n",
    "# Violin plot\n",
    "sns.violinplot(x='company', y='price', data=df_company, palette=car_colors, scale='count')\n",
    "# Swarm plot\n",
    "sns.swarmplot(x='company', y='price', data=df_company, color='w')\n",
    "plt.xticks(rotation=45)\n",
    "plt.title('Companies\\' Price Distribution')\n",
    "plt.show()"
   ]
  },
  {
   "cell_type": "markdown",
   "metadata": {
    "deletable": false,
    "editable": false,
    "nbgrader": {
     "cell_type": "markdown",
     "checksum": "873e78bbea53df0fb7d63d2c1c7617a3",
     "grade": false,
     "grade_id": "cell-de6635e17c2f843f",
     "locked": true,
     "schema_version": 3,
     "solution": false,
     "task": false
    },
    "slideshow": {
     "slide_type": "subslide"
    }
   },
   "source": [
    "### Creating Subplots\n",
    "We can also create several Axes per one figure."
   ]
  },
  {
   "cell_type": "code",
   "execution_count": null,
   "metadata": {
    "slideshow": {
     "slide_type": "subslide"
    }
   },
   "outputs": [],
   "source": [
    "f, (ax1, ax2) = plt.subplots(1, 2, figsize=(16,8), sharey=True)\n",
    "sns.violinplot(x='company', y='price', data=df_company, palette=car_colors, scale='count', ax=ax1)\n",
    "sns.swarmplot(x='company', y='price', data=df_company, ax=ax2)\n",
    "\n",
    "ax1.set_title('Companies\\' Price Distribution (Violinplot)')\n",
    "ax2.set_title('Companies\\' Price Distribution (Swarmplot)')\n",
    "ax2.set_ylabel(\"\")\n",
    "plt.show()"
   ]
  },
  {
   "cell_type": "markdown",
   "metadata": {
    "deletable": false,
    "editable": false,
    "nbgrader": {
     "cell_type": "markdown",
     "checksum": "a174630616d257bdf6474072bc68dc34",
     "grade": false,
     "grade_id": "cell-ef09329fb6eefe66",
     "locked": true,
     "schema_version": 3,
     "solution": false,
     "task": false
    },
    "slideshow": {
     "slide_type": "subslide"
    }
   },
   "source": [
    "## Aside: The Boxplot\n",
    "```\n",
    "     Q1-1.5IQR   Q1   median  Q3   Q3+1.5IQR\n",
    "                  |-----:-----|\n",
    "  o      |--------|     :     |--------|    o  o\n",
    "                  |-----:-----|\n",
    "flier             <----------->            fliers\n",
    "                       IQR\n",
    "```\n",
    "\n",
    "    The box extends from the first quartile (Q1) to the third quartile (Q3) of the data, with a line at the median. The whiskers extend from the box by 1.5x the inter-quartile range (IQR). Flier points are those past the end of the whiskers. See https://en.wikipedia.org/wiki/Box_plot for reference.\n",
    "\n",
    "Source: https://matplotlib.org/stable/api/_as_gen/matplotlib.pyplot.boxplot.html"
   ]
  },
  {
   "cell_type": "code",
   "execution_count": null,
   "metadata": {
    "slideshow": {
     "slide_type": "subslide"
    }
   },
   "outputs": [],
   "source": [
    "df_hatchback = pd.DataFrame(df.loc[df['body-style'].str.contains('hatchback'), 'price'])\n",
    "sns.boxplot(data=df_hatchback)\n",
    "sns.swarmplot(data=df_hatchback, color='k', alpha=.7)\n",
    "plt.xticks([0], ['hatchback'])\n",
    "plt.title('Hatchback Prices')\n",
    "plt.show()"
   ]
  },
  {
   "cell_type": "markdown",
   "metadata": {
    "deletable": false,
    "editable": false,
    "nbgrader": {
     "cell_type": "markdown",
     "checksum": "5ac257e4f4f28dc47440c0ac7c0cd45b",
     "grade": false,
     "grade_id": "cell-9ceb4e0ee4bc91c0",
     "locked": true,
     "schema_version": 3,
     "solution": false,
     "task": false
    },
    "slideshow": {
     "slide_type": "subslide"
    }
   },
   "source": [
    "### How to use the plots externally\n",
    "One does not only want to use the plots internally in notebooks and scripts. Storing the images from the pop-up window can not be automated easily. By using `plt.savefig(...)` (instead of `plt.show()`), we can specify the location to store the file.\n",
    "\n",
    "__Hint:__ this can be combined with Git and LaTeX in a very cool way!"
   ]
  },
  {
   "cell_type": "code",
   "execution_count": null,
   "metadata": {
    "slideshow": {
     "slide_type": "subslide"
    }
   },
   "outputs": [],
   "source": [
    "plt.figure(figsize=(10,6))\n",
    "sns.violinplot(x='company', y='price', data=df_company, palette=car_colors, scale='count')\n",
    "sns.swarmplot(x='company', y='price', data=df_company, color='w')\n",
    "plt.xticks(rotation=45)\n",
    "plt.title('Companies\\' Price Distribution')\n",
    "\n",
    "# instead of plt.show()\n",
    "plt.savefig('sample_figure.png', dpi=150)"
   ]
  },
  {
   "cell_type": "markdown",
   "metadata": {
    "deletable": false,
    "editable": false,
    "nbgrader": {
     "cell_type": "markdown",
     "checksum": "05795b21ba8d390ee84d0b31bc93b10c",
     "grade": false,
     "grade_id": "cell-6c67ab8475966caa",
     "locked": true,
     "schema_version": 3,
     "solution": false,
     "task": false
    },
    "slideshow": {
     "slide_type": "fragment"
    }
   },
   "source": [
    "But we don't want to keep that file. Let's clean up. ;-)"
   ]
  },
  {
   "cell_type": "code",
   "execution_count": null,
   "metadata": {
    "slideshow": {
     "slide_type": "fragment"
    }
   },
   "outputs": [],
   "source": [
    "import os; os.remove('sample_figure.png')"
   ]
  },
  {
   "cell_type": "markdown",
   "metadata": {
    "deletable": false,
    "editable": false,
    "nbgrader": {
     "cell_type": "markdown",
     "checksum": "8b511be3fd6e92780dbceb623407c7d3",
     "grade": false,
     "grade_id": "cell-7271f3f20074cdae",
     "locked": true,
     "schema_version": 3,
     "solution": false,
     "task": false
    },
    "slideshow": {
     "slide_type": "slide"
    }
   },
   "source": [
    "## Do you know XKCD?\n",
    "![XKCD](https://imgs.xkcd.com/comics/python_environment.png)\n",
    "\n",
    "If you want to make a graph like that, google for `matplotlib` and `xkcd`."
   ]
  },
  {
   "cell_type": "markdown",
   "metadata": {
    "deletable": false,
    "editable": false,
    "nbgrader": {
     "cell_type": "markdown",
     "checksum": "5238778fa45d3c07e02e4b1a424e1f1b",
     "grade": false,
     "grade_id": "cell-9ae2c5bb7d0895e0",
     "locked": true,
     "schema_version": 3,
     "solution": false,
     "task": false
    },
    "slideshow": {
     "slide_type": "slide"
    }
   },
   "source": [
    "## Matplotlib, seaborn, pandas?\n",
    "If confused about how and when to use which framework, the following thoughts can guide you:\n",
    "1. Use pandas plotting utilities to get a first idea of what your data looks like.\n",
    "2. Use seaborn for advanced styling and more complex graph types.\n",
    "3. Use the underlying matplotlib functionality to customize your plot."
   ]
  },
  {
   "cell_type": "markdown",
   "metadata": {
    "deletable": false,
    "editable": false,
    "nbgrader": {
     "cell_type": "markdown",
     "checksum": "757cd680002bb968db0935a1647c08b8",
     "grade": false,
     "grade_id": "cell-2a6a80292a203220",
     "locked": true,
     "schema_version": 3,
     "solution": false,
     "task": false
    },
    "slideshow": {
     "slide_type": "slide"
    }
   },
   "source": [
    "## One step further: Plotly\n",
    "\n",
    "    The plotly Python library is an interactive, open-source plotting library that supports over 40 unique chart types covering a wide range of statistical, financial, geographic, scientific, and 3-dimensional use-cases.\n",
    "\n",
    "    Built on top of the Plotly JavaScript library (plotly.js), plotly enables Python users to create beautiful interactive web-based visualizations that can be displayed in Jupyter notebooks, saved to standalone HTML files, or served as part of pure Python-built web applications using Dash. The plotly Python library is sometimes referred to as \"plotly.py\" to differentiate it from the JavaScript library.\n",
    "    \n",
    "Source: [https://plotly.com/python/getting-started/](https://plotly.com/python/getting-started/)"
   ]
  },
  {
   "cell_type": "markdown",
   "metadata": {
    "slideshow": {
     "slide_type": "subslide"
    }
   },
   "source": [
    "Let's have a look on a basic example..."
   ]
  },
  {
   "cell_type": "code",
   "execution_count": null,
   "metadata": {
    "slideshow": {
     "slide_type": "fragment"
    }
   },
   "outputs": [],
   "source": [
    "import plotly.express as px\n",
    "fig = px.bar(x=[\"a\", \"b\", \"c\"], y=[1, 3, 2])\n",
    "fig.show()"
   ]
  },
  {
   "cell_type": "markdown",
   "metadata": {
    "slideshow": {
     "slide_type": "subslide"
    }
   },
   "source": [
    "But there is much more..."
   ]
  },
  {
   "cell_type": "code",
   "execution_count": null,
   "metadata": {
    "slideshow": {
     "slide_type": "subslide"
    }
   },
   "outputs": [],
   "source": [
    "import plotly.express as px\n",
    "df = px.data.gapminder()\n",
    "df.head()"
   ]
  },
  {
   "cell_type": "code",
   "execution_count": null,
   "metadata": {},
   "outputs": [],
   "source": [
    "fig = px.bar(df.query('year == 2007'), \n",
    "             hover_name='country',\n",
    "             y='continent',\n",
    "             barmode=\"group\"\n",
    "            )\n",
    "fig.show()"
   ]
  },
  {
   "cell_type": "code",
   "execution_count": null,
   "metadata": {
    "slideshow": {
     "slide_type": "subslide"
    }
   },
   "outputs": [],
   "source": [
    "px.scatter(df, x=\"gdpPercap\", y=\"lifeExp\", animation_frame=\"year\", animation_group=\"country\",\n",
    "           size=\"pop\", color=\"continent\", hover_name=\"country\",\n",
    "           log_x=True, size_max=55, range_x=[100,100000], range_y=[25,90])"
   ]
  },
  {
   "cell_type": "code",
   "execution_count": null,
   "metadata": {},
   "outputs": [],
   "source": [
    "fig = px.scatter_geo(\n",
    "    df.query('year == 2007'), \n",
    "    locations='iso_alpha', \n",
    "    color='continent', \n",
    "    projection='orthographic',\n",
    "    hover_name=\"country\"\n",
    ")\n",
    "fig.show() "
   ]
  },
  {
   "cell_type": "code",
   "execution_count": null,
   "metadata": {
    "slideshow": {
     "slide_type": "fragment"
    }
   },
   "outputs": [],
   "source": [
    "import plotly.graph_objects as go\n",
    "\n",
    "import pandas as pd\n",
    "\n",
    "# Read data from a csv\n",
    "z_data = pd.read_csv('https://raw.githubusercontent.com/plotly/datasets/master/api_docs/mt_bruno_elevation.csv')\n",
    "\n",
    "fig = go.Figure(data=[go.Surface(z=z_data.values)])\n",
    "\n",
    "fig.update_layout(title='Mt Bruno Elevation', autosize=False,\n",
    "                  width=500, height=500,\n",
    "                  margin=dict(l=65, r=50, b=65, t=90))\n",
    "\n",
    "fig.show()"
   ]
  },
  {
   "cell_type": "markdown",
   "metadata": {
    "deletable": false,
    "editable": false,
    "nbgrader": {
     "cell_type": "markdown",
     "checksum": "aed896e95d5f69153595da63cc45ec1b",
     "grade": false,
     "grade_id": "cell-efd2bdb84abe8b0d",
     "locked": true,
     "schema_version": 3,
     "solution": false,
     "task": false
    },
    "slideshow": {
     "slide_type": "slide"
    }
   },
   "source": [
    "## Wrap-up Exercises\n",
    "\n",
    "### Task 1: Automobile Data\n",
    "Browse the [seaborn API reference](http://seaborn.pydata.org/api.html) or the [example gallery](https://seaborn.pydata.org/examples/index.html) and come up with your visualization of the automobile data. Store it on your disc and upload it to the quiz of reading 2. Two students' graphs should not look the same! I am curious about your visualizations."
   ]
  },
  {
   "cell_type": "code",
   "execution_count": null,
   "metadata": {
    "deletable": false,
    "nbgrader": {
     "cell_type": "code",
     "checksum": "58502c665700c4f539a125417c604881",
     "grade": true,
     "grade_id": "cell-86c22e2441e59bae",
     "locked": false,
     "points": 0,
     "schema_version": 3,
     "solution": true,
     "task": false
    },
    "slideshow": {
     "slide_type": "skip"
    }
   },
   "outputs": [],
   "source": [
    "# YOUR CODE HERE\n",
    "raise NotImplementedError()"
   ]
  },
  {
   "cell_type": "markdown",
   "metadata": {
    "slideshow": {
     "slide_type": "subslide"
    }
   },
   "source": [
    "### Task 2: Sales Data Analysis with Matplotlib\n",
    "\n",
    "Use seaborn and matplotlib to analyze and visualize a dataset of monthly sales for different product categories. Create a line plot with customizations to enhance readability, and use annotations to highlight specific points of interest.\n",
    "\n",
    "1. Dataset Preparation:\n",
    "- Create a dataset with the following columns: Month, Category, and Sales. Include data for 12 months and 3 categories (Electronics, Furniture, Clothing).\n",
    "- Generate random sales values between 5000 and 20000 for each category.\n",
    "\n",
    "2. Line Plot:\n",
    "- Use seaborn/matplotlib to create a line plot showing sales trends over the 12 months for each category.\n",
    "- Each category should have a different line color and line style.\n",
    "\n",
    "3. Customization:\n",
    "- Add a title, axis labels, and a legend.\n",
    "- Highlight the month with the highest total sales (across all categories) by marking it with a red dot and adding an annotation to show the total sales value for that month.\n",
    "- Add grid lines and adjust the plot style (e.g., using plt.style.use('seaborn-darkgrid')).\n",
    "\n",
    "4. Enhance Plot with Annotations:\n",
    "Annotate each category's highest sales month with the specific sales value."
   ]
  },
  {
   "cell_type": "code",
   "execution_count": null,
   "metadata": {
    "deletable": false,
    "nbgrader": {
     "cell_type": "code",
     "checksum": "32090958f2ae903ada4526116452c185",
     "grade": true,
     "grade_id": "cell-24603f3c7e431191",
     "locked": false,
     "points": 0,
     "schema_version": 3,
     "solution": true,
     "task": false
    },
    "slideshow": {
     "slide_type": "skip"
    }
   },
   "outputs": [],
   "source": [
    "# YOUR CODE HERE\n",
    "raise NotImplementedError()"
   ]
  },
  {
   "cell_type": "markdown",
   "metadata": {
    "slideshow": {
     "slide_type": "subslide"
    }
   },
   "source": [
    "### Task 3: Exploring Iris Dataset with Matplotlib and Seaborn\n",
    "\n",
    "In this task, you'll work with a classic dataset in machine learning: the Iris dataset. You'll use Matplotlib and Seaborn to visualize \n",
    "the data and gain insights into the characteristics of each species.\n",
    "\n",
    "**Objective:**\n",
    "\n",
    "* Load the Iris dataset\n",
    "* Create **ONE** figure with several subplots:\n",
    "    * Create a histogram of the sepal length\n",
    "    * Create a boxplot of the petal width\n",
    "    * Compare the distributions of sepal length and petal width across species using violin plots\n",
    "    * Use Seaborn's heatmap to visualize the relationship between sepal length, sepal width, petal length, and petal width\n",
    "\n",
    "**Dataset:**\n",
    "\n",
    "The Iris dataset is a multiclass classification problem, where we have three classes (Iris setosa, Iris versicolor, and Iris \n",
    "virginica) with 50 instances each. The dataset consists of four features:\n",
    "\n",
    "* sepal length (cm)\n",
    "* sepal width (cm)\n",
    "* petal length (cm)\n",
    "* petal width (cm)\n",
    "\n",
    "**Tips and Resources:**\n",
    "\n",
    "* Use the [`iris` dataset from Scikit-Learn library](https://scikit-learn.org/1.5/modules/generated/sklearn.datasets.load_iris.html)"
   ]
  },
  {
   "cell_type": "code",
   "execution_count": null,
   "metadata": {
    "deletable": false,
    "nbgrader": {
     "cell_type": "code",
     "checksum": "4c40dcb9a504e16b471269592cb9bcd4",
     "grade": true,
     "grade_id": "cell-70371b409ef9072a",
     "locked": false,
     "points": 0,
     "schema_version": 3,
     "solution": true,
     "task": false
    },
    "slideshow": {
     "slide_type": "skip"
    }
   },
   "outputs": [],
   "source": [
    "# YOUR CODE HERE\n",
    "raise NotImplementedError()"
   ]
  },
  {
   "cell_type": "markdown",
   "metadata": {
    "slideshow": {
     "slide_type": "subslide"
    }
   },
   "source": [
    "### Task 4: Visualizing COVID-19 Cases by Country using Plotly\n",
    "\n",
    "In this task, you'll create an interactive visualization of COVID-19 cases by country using Plotly. You'll use publicly available data from the Our World in Data project.\n",
    "\n",
    "**Objective:**\n",
    "\n",
    "* Load and clean the COVID-19 dataset\n",
    "* Create a plot of total cases by country"
   ]
  },
  {
   "cell_type": "code",
   "execution_count": null,
   "metadata": {
    "deletable": false,
    "nbgrader": {
     "cell_type": "code",
     "checksum": "a4e4ef2888ace857eb719c3f6275e747",
     "grade": true,
     "grade_id": "cell-d7daf29f85a52617",
     "locked": false,
     "points": 0,
     "schema_version": 3,
     "solution": true,
     "task": false
    },
    "slideshow": {
     "slide_type": "skip"
    }
   },
   "outputs": [],
   "source": [
    "import plotly.express as px\n",
    "import pandas as pd\n",
    "\n",
    "# Load dataset from CSV file or URL\n",
    "url = 'https://raw.githubusercontent.com/owid/covid-19-data/refs/heads/master/public/data/owid-covid-data.csv'\n",
    "df = pd.read_csv(url)\n",
    "\n",
    "# YOUR CODE HERE\n",
    "raise NotImplementedError()"
   ]
  },
  {
   "cell_type": "markdown",
   "metadata": {
    "deletable": false,
    "editable": false,
    "nbgrader": {
     "cell_type": "markdown",
     "checksum": "373fc74bdbc85647667e3dc1f7bd033e",
     "grade": false,
     "grade_id": "cell-73e8ac8307efa793",
     "locked": true,
     "schema_version": 3,
     "solution": false,
     "task": false
    },
    "slideshow": {
     "slide_type": "skip"
    }
   },
   "source": [
    "# Inspriation/Further Reading\n",
    "- [Blog post about Python visualizatoin tools](https://blog.magrathealabs.com/choosing-one-of-many-python-visualization-tools-7eb36fa5855f)\n",
    "- [matplotlib usage FAQ](https://matplotlib.org/faq/usage_faq.html)\n",
    "- [Data visualization blog post](https://erikcianci.com/blog/data-visualization-fundamentals#data-types)\n",
    "- [Python seaborn tutorial](https://elitedatascience.com/python-seaborn-tutorial)"
   ]
  }
 ],
 "metadata": {
  "kernelspec": {
   "display_name": "Python 3 (ipykernel)",
   "language": "python",
   "name": "python3"
  },
  "language_info": {
   "codemirror_mode": {
    "name": "ipython",
    "version": 3
   },
   "file_extension": ".py",
   "mimetype": "text/x-python",
   "name": "python",
   "nbconvert_exporter": "python",
   "pygments_lexer": "ipython3",
   "version": "3.10.12"
  }
 },
 "nbformat": 4,
 "nbformat_minor": 4
}
